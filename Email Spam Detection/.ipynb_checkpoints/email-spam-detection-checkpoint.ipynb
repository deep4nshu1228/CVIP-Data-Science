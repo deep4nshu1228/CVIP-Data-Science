{
 "cells": [
  {
   "cell_type": "markdown",
   "id": "7f2f9232",
   "metadata": {
    "papermill": {
     "duration": 0.017107,
     "end_time": "2023-04-29T07:26:20.469506",
     "exception": false,
     "start_time": "2023-04-29T07:26:20.452399",
     "status": "completed"
    },
    "tags": []
   },
   "source": [
    "# Import Libraries"
   ]
  },
  {
   "cell_type": "code",
   "execution_count": 1,
   "id": "0f1a2238",
   "metadata": {
    "execution": {
     "iopub.execute_input": "2023-04-29T07:26:20.504181Z",
     "iopub.status.busy": "2023-04-29T07:26:20.502875Z",
     "iopub.status.idle": "2023-04-29T07:26:33.865981Z",
     "shell.execute_reply": "2023-04-29T07:26:33.864407Z"
    },
    "papermill": {
     "duration": 13.38382,
     "end_time": "2023-04-29T07:26:33.869219",
     "exception": false,
     "start_time": "2023-04-29T07:26:20.485399",
     "status": "completed"
    },
    "tags": []
   },
   "outputs": [
    {
     "name": "stdout",
     "output_type": "stream",
     "text": [
      "Collecting dtreeviz\r\n",
      "  Downloading dtreeviz-2.2.1-py3-none-any.whl (91 kB)\r\n",
      "\u001b[2K     \u001b[90m━━━━━━━━━━━━━━━━━━━━━━━━━━━━━━━━━━━━━━━━\u001b[0m \u001b[32m91.5/91.5 kB\u001b[0m \u001b[31m3.7 MB/s\u001b[0m eta \u001b[36m0:00:00\u001b[0m\r\n",
      "\u001b[?25hRequirement already satisfied: numpy in /opt/conda/lib/python3.7/site-packages (from dtreeviz) (1.21.6)\r\n",
      "Collecting graphviz>=0.9\r\n",
      "  Downloading graphviz-0.20.1-py3-none-any.whl (47 kB)\r\n",
      "\u001b[2K     \u001b[90m━━━━━━━━━━━━━━━━━━━━━━━━━━━━━━━━━━━━━━━━\u001b[0m \u001b[32m47.0/47.0 kB\u001b[0m \u001b[31m3.2 MB/s\u001b[0m eta \u001b[36m0:00:00\u001b[0m\r\n",
      "\u001b[?25hRequirement already satisfied: pandas in /opt/conda/lib/python3.7/site-packages (from dtreeviz) (1.3.5)\r\n",
      "Requirement already satisfied: matplotlib in /opt/conda/lib/python3.7/site-packages (from dtreeviz) (3.5.3)\r\n",
      "Collecting colour\r\n",
      "  Downloading colour-0.1.5-py2.py3-none-any.whl (23 kB)\r\n",
      "Requirement already satisfied: scikit-learn in /opt/conda/lib/python3.7/site-packages (from dtreeviz) (1.0.2)\r\n",
      "Requirement already satisfied: pytest in /opt/conda/lib/python3.7/site-packages (from dtreeviz) (7.2.2)\r\n",
      "Requirement already satisfied: python-dateutil>=2.7 in /opt/conda/lib/python3.7/site-packages (from matplotlib->dtreeviz) (2.8.2)\r\n",
      "Requirement already satisfied: fonttools>=4.22.0 in /opt/conda/lib/python3.7/site-packages (from matplotlib->dtreeviz) (4.38.0)\r\n",
      "Requirement already satisfied: packaging>=20.0 in /opt/conda/lib/python3.7/site-packages (from matplotlib->dtreeviz) (23.0)\r\n",
      "Requirement already satisfied: pyparsing>=2.2.1 in /opt/conda/lib/python3.7/site-packages (from matplotlib->dtreeviz) (3.0.9)\r\n",
      "Requirement already satisfied: cycler>=0.10 in /opt/conda/lib/python3.7/site-packages (from matplotlib->dtreeviz) (0.11.0)\r\n",
      "Requirement already satisfied: pillow>=6.2.0 in /opt/conda/lib/python3.7/site-packages (from matplotlib->dtreeviz) (9.4.0)\r\n",
      "Requirement already satisfied: kiwisolver>=1.0.1 in /opt/conda/lib/python3.7/site-packages (from matplotlib->dtreeviz) (1.4.4)\r\n",
      "Requirement already satisfied: pytz>=2017.3 in /opt/conda/lib/python3.7/site-packages (from pandas->dtreeviz) (2022.7.1)\r\n",
      "Requirement already satisfied: attrs>=19.2.0 in /opt/conda/lib/python3.7/site-packages (from pytest->dtreeviz) (22.2.0)\r\n",
      "Requirement already satisfied: pluggy<2.0,>=0.12 in /opt/conda/lib/python3.7/site-packages (from pytest->dtreeviz) (1.0.0)\r\n",
      "Requirement already satisfied: exceptiongroup>=1.0.0rc8 in /opt/conda/lib/python3.7/site-packages (from pytest->dtreeviz) (1.1.1)\r\n",
      "Requirement already satisfied: tomli>=1.0.0 in /opt/conda/lib/python3.7/site-packages (from pytest->dtreeviz) (2.0.1)\r\n",
      "Requirement already satisfied: importlib-metadata>=0.12 in /opt/conda/lib/python3.7/site-packages (from pytest->dtreeviz) (4.11.4)\r\n",
      "Requirement already satisfied: iniconfig in /opt/conda/lib/python3.7/site-packages (from pytest->dtreeviz) (2.0.0)\r\n",
      "Requirement already satisfied: joblib>=0.11 in /opt/conda/lib/python3.7/site-packages (from scikit-learn->dtreeviz) (1.2.0)\r\n",
      "Requirement already satisfied: threadpoolctl>=2.0.0 in /opt/conda/lib/python3.7/site-packages (from scikit-learn->dtreeviz) (3.1.0)\r\n",
      "Requirement already satisfied: scipy>=1.1.0 in /opt/conda/lib/python3.7/site-packages (from scikit-learn->dtreeviz) (1.7.3)\r\n",
      "Requirement already satisfied: typing-extensions>=3.6.4 in /opt/conda/lib/python3.7/site-packages (from importlib-metadata>=0.12->pytest->dtreeviz) (4.4.0)\r\n",
      "Requirement already satisfied: zipp>=0.5 in /opt/conda/lib/python3.7/site-packages (from importlib-metadata>=0.12->pytest->dtreeviz) (3.11.0)\r\n",
      "Requirement already satisfied: six>=1.5 in /opt/conda/lib/python3.7/site-packages (from python-dateutil>=2.7->matplotlib->dtreeviz) (1.16.0)\r\n",
      "Installing collected packages: colour, graphviz, dtreeviz\r\n",
      "  Attempting uninstall: graphviz\r\n",
      "    Found existing installation: graphviz 0.8.4\r\n",
      "    Uninstalling graphviz-0.8.4:\r\n",
      "      Successfully uninstalled graphviz-0.8.4\r\n",
      "\u001b[31mERROR: pip's dependency resolver does not currently take into account all the packages that are installed. This behaviour is the source of the following dependency conflicts.\r\n",
      "mxnet 1.9.1 requires graphviz<0.9.0,>=0.8.1, but you have graphviz 0.20.1 which is incompatible.\u001b[0m\u001b[31m\r\n",
      "\u001b[0mSuccessfully installed colour-0.1.5 dtreeviz-2.2.1 graphviz-0.20.1\r\n",
      "\u001b[33mWARNING: Running pip as the 'root' user can result in broken permissions and conflicting behaviour with the system package manager. It is recommended to use a virtual environment instead: https://pip.pypa.io/warnings/venv\u001b[0m\u001b[33m\r\n",
      "\u001b[0m"
     ]
    }
   ],
   "source": [
    "!pip install dtreeviz"
   ]
  },
  {
   "cell_type": "code",
   "execution_count": 2,
   "id": "7d7d604c",
   "metadata": {
    "_cell_guid": "b1076dfc-b9ad-4769-8c92-a6c4dae69d19",
    "_uuid": "8f2839f25d086af736a60e9eeb907d3b93b6e0e5",
    "execution": {
     "iopub.execute_input": "2023-04-29T07:26:33.906976Z",
     "iopub.status.busy": "2023-04-29T07:26:33.906492Z",
     "iopub.status.idle": "2023-04-29T07:26:35.937061Z",
     "shell.execute_reply": "2023-04-29T07:26:35.935800Z"
    },
    "papermill": {
     "duration": 2.052369,
     "end_time": "2023-04-29T07:26:35.940427",
     "exception": false,
     "start_time": "2023-04-29T07:26:33.888058",
     "status": "completed"
    },
    "tags": []
   },
   "outputs": [
    {
     "name": "stdout",
     "output_type": "stream",
     "text": [
      "/kaggle/input/email-spam-classification-dataset-csv/emails.csv\n"
     ]
    }
   ],
   "source": [
    "import numpy as np \n",
    "import pandas as pd \n",
    "import seaborn as sns\n",
    "import matplotlib.pyplot as plt\n",
    "from sklearn.model_selection import train_test_split\n",
    "import dtreeviz\n",
    "import pickle\n",
    "from sklearn.tree import plot_tree\n",
    "from sklearn.linear_model import LogisticRegression\n",
    "from sklearn.svm import SVC\n",
    "from sklearn.naive_bayes import GaussianNB, MultinomialNB\n",
    "from xgboost import XGBClassifier\n",
    "from sklearn.tree import DecisionTreeClassifier\n",
    "from sklearn.ensemble import RandomForestClassifier, AdaBoostClassifier, ExtraTreesClassifier\n",
    "from sklearn.neural_network import MLPClassifier\n",
    "from sklearn.metrics import precision_score, recall_score, accuracy_score, f1_score, confusion_matrix, ConfusionMatrixDisplay, classification_report\n",
    "import os\n",
    "for dirname, _, filenames in os.walk('/kaggle/input'):\n",
    "    for filename in filenames:\n",
    "        print(os.path.join(dirname, filename))\n",
    "import warnings\n",
    "warnings.filterwarnings(\"ignore\")"
   ]
  },
  {
   "cell_type": "markdown",
   "id": "4f51a2c9",
   "metadata": {
    "papermill": {
     "duration": 0.016505,
     "end_time": "2023-04-29T07:26:35.973982",
     "exception": false,
     "start_time": "2023-04-29T07:26:35.957477",
     "status": "completed"
    },
    "tags": []
   },
   "source": [
    "# Load Data"
   ]
  },
  {
   "cell_type": "code",
   "execution_count": 3,
   "id": "b0077787",
   "metadata": {
    "execution": {
     "iopub.execute_input": "2023-04-29T07:26:36.010639Z",
     "iopub.status.busy": "2023-04-29T07:26:36.009494Z",
     "iopub.status.idle": "2023-04-29T07:26:38.103288Z",
     "shell.execute_reply": "2023-04-29T07:26:38.102359Z"
    },
    "papermill": {
     "duration": 2.115522,
     "end_time": "2023-04-29T07:26:38.106292",
     "exception": false,
     "start_time": "2023-04-29T07:26:35.990770",
     "status": "completed"
    },
    "tags": []
   },
   "outputs": [],
   "source": [
    "df = pd.read_csv('/kaggle/input/email-spam-classification-dataset-csv/emails.csv')"
   ]
  },
  {
   "cell_type": "code",
   "execution_count": 4,
   "id": "a2f6d5ff",
   "metadata": {
    "execution": {
     "iopub.execute_input": "2023-04-29T07:26:38.143422Z",
     "iopub.status.busy": "2023-04-29T07:26:38.142651Z",
     "iopub.status.idle": "2023-04-29T07:26:38.182300Z",
     "shell.execute_reply": "2023-04-29T07:26:38.181389Z"
    },
    "papermill": {
     "duration": 0.06128,
     "end_time": "2023-04-29T07:26:38.184933",
     "exception": false,
     "start_time": "2023-04-29T07:26:38.123653",
     "status": "completed"
    },
    "tags": []
   },
   "outputs": [
    {
     "data": {
      "text/html": [
       "<div>\n",
       "<style scoped>\n",
       "    .dataframe tbody tr th:only-of-type {\n",
       "        vertical-align: middle;\n",
       "    }\n",
       "\n",
       "    .dataframe tbody tr th {\n",
       "        vertical-align: top;\n",
       "    }\n",
       "\n",
       "    .dataframe thead th {\n",
       "        text-align: right;\n",
       "    }\n",
       "</style>\n",
       "<table border=\"1\" class=\"dataframe\">\n",
       "  <thead>\n",
       "    <tr style=\"text-align: right;\">\n",
       "      <th></th>\n",
       "      <th>Email No.</th>\n",
       "      <th>the</th>\n",
       "      <th>to</th>\n",
       "      <th>ect</th>\n",
       "      <th>and</th>\n",
       "      <th>for</th>\n",
       "      <th>of</th>\n",
       "      <th>a</th>\n",
       "      <th>you</th>\n",
       "      <th>hou</th>\n",
       "      <th>...</th>\n",
       "      <th>connevey</th>\n",
       "      <th>jay</th>\n",
       "      <th>valued</th>\n",
       "      <th>lay</th>\n",
       "      <th>infrastructure</th>\n",
       "      <th>military</th>\n",
       "      <th>allowing</th>\n",
       "      <th>ff</th>\n",
       "      <th>dry</th>\n",
       "      <th>Prediction</th>\n",
       "    </tr>\n",
       "  </thead>\n",
       "  <tbody>\n",
       "    <tr>\n",
       "      <th>0</th>\n",
       "      <td>Email 1</td>\n",
       "      <td>0</td>\n",
       "      <td>0</td>\n",
       "      <td>1</td>\n",
       "      <td>0</td>\n",
       "      <td>0</td>\n",
       "      <td>0</td>\n",
       "      <td>2</td>\n",
       "      <td>0</td>\n",
       "      <td>0</td>\n",
       "      <td>...</td>\n",
       "      <td>0</td>\n",
       "      <td>0</td>\n",
       "      <td>0</td>\n",
       "      <td>0</td>\n",
       "      <td>0</td>\n",
       "      <td>0</td>\n",
       "      <td>0</td>\n",
       "      <td>0</td>\n",
       "      <td>0</td>\n",
       "      <td>0</td>\n",
       "    </tr>\n",
       "    <tr>\n",
       "      <th>1</th>\n",
       "      <td>Email 2</td>\n",
       "      <td>8</td>\n",
       "      <td>13</td>\n",
       "      <td>24</td>\n",
       "      <td>6</td>\n",
       "      <td>6</td>\n",
       "      <td>2</td>\n",
       "      <td>102</td>\n",
       "      <td>1</td>\n",
       "      <td>27</td>\n",
       "      <td>...</td>\n",
       "      <td>0</td>\n",
       "      <td>0</td>\n",
       "      <td>0</td>\n",
       "      <td>0</td>\n",
       "      <td>0</td>\n",
       "      <td>0</td>\n",
       "      <td>0</td>\n",
       "      <td>1</td>\n",
       "      <td>0</td>\n",
       "      <td>0</td>\n",
       "    </tr>\n",
       "    <tr>\n",
       "      <th>2</th>\n",
       "      <td>Email 3</td>\n",
       "      <td>0</td>\n",
       "      <td>0</td>\n",
       "      <td>1</td>\n",
       "      <td>0</td>\n",
       "      <td>0</td>\n",
       "      <td>0</td>\n",
       "      <td>8</td>\n",
       "      <td>0</td>\n",
       "      <td>0</td>\n",
       "      <td>...</td>\n",
       "      <td>0</td>\n",
       "      <td>0</td>\n",
       "      <td>0</td>\n",
       "      <td>0</td>\n",
       "      <td>0</td>\n",
       "      <td>0</td>\n",
       "      <td>0</td>\n",
       "      <td>0</td>\n",
       "      <td>0</td>\n",
       "      <td>0</td>\n",
       "    </tr>\n",
       "    <tr>\n",
       "      <th>3</th>\n",
       "      <td>Email 4</td>\n",
       "      <td>0</td>\n",
       "      <td>5</td>\n",
       "      <td>22</td>\n",
       "      <td>0</td>\n",
       "      <td>5</td>\n",
       "      <td>1</td>\n",
       "      <td>51</td>\n",
       "      <td>2</td>\n",
       "      <td>10</td>\n",
       "      <td>...</td>\n",
       "      <td>0</td>\n",
       "      <td>0</td>\n",
       "      <td>0</td>\n",
       "      <td>0</td>\n",
       "      <td>0</td>\n",
       "      <td>0</td>\n",
       "      <td>0</td>\n",
       "      <td>0</td>\n",
       "      <td>0</td>\n",
       "      <td>0</td>\n",
       "    </tr>\n",
       "    <tr>\n",
       "      <th>4</th>\n",
       "      <td>Email 5</td>\n",
       "      <td>7</td>\n",
       "      <td>6</td>\n",
       "      <td>17</td>\n",
       "      <td>1</td>\n",
       "      <td>5</td>\n",
       "      <td>2</td>\n",
       "      <td>57</td>\n",
       "      <td>0</td>\n",
       "      <td>9</td>\n",
       "      <td>...</td>\n",
       "      <td>0</td>\n",
       "      <td>0</td>\n",
       "      <td>0</td>\n",
       "      <td>0</td>\n",
       "      <td>0</td>\n",
       "      <td>0</td>\n",
       "      <td>0</td>\n",
       "      <td>1</td>\n",
       "      <td>0</td>\n",
       "      <td>0</td>\n",
       "    </tr>\n",
       "    <tr>\n",
       "      <th>5</th>\n",
       "      <td>Email 6</td>\n",
       "      <td>4</td>\n",
       "      <td>5</td>\n",
       "      <td>1</td>\n",
       "      <td>4</td>\n",
       "      <td>2</td>\n",
       "      <td>3</td>\n",
       "      <td>45</td>\n",
       "      <td>1</td>\n",
       "      <td>0</td>\n",
       "      <td>...</td>\n",
       "      <td>0</td>\n",
       "      <td>0</td>\n",
       "      <td>0</td>\n",
       "      <td>0</td>\n",
       "      <td>0</td>\n",
       "      <td>0</td>\n",
       "      <td>0</td>\n",
       "      <td>0</td>\n",
       "      <td>0</td>\n",
       "      <td>1</td>\n",
       "    </tr>\n",
       "    <tr>\n",
       "      <th>6</th>\n",
       "      <td>Email 7</td>\n",
       "      <td>5</td>\n",
       "      <td>3</td>\n",
       "      <td>1</td>\n",
       "      <td>3</td>\n",
       "      <td>2</td>\n",
       "      <td>1</td>\n",
       "      <td>37</td>\n",
       "      <td>0</td>\n",
       "      <td>0</td>\n",
       "      <td>...</td>\n",
       "      <td>0</td>\n",
       "      <td>0</td>\n",
       "      <td>0</td>\n",
       "      <td>0</td>\n",
       "      <td>0</td>\n",
       "      <td>0</td>\n",
       "      <td>0</td>\n",
       "      <td>0</td>\n",
       "      <td>0</td>\n",
       "      <td>0</td>\n",
       "    </tr>\n",
       "    <tr>\n",
       "      <th>7</th>\n",
       "      <td>Email 8</td>\n",
       "      <td>0</td>\n",
       "      <td>2</td>\n",
       "      <td>2</td>\n",
       "      <td>3</td>\n",
       "      <td>1</td>\n",
       "      <td>2</td>\n",
       "      <td>21</td>\n",
       "      <td>6</td>\n",
       "      <td>0</td>\n",
       "      <td>...</td>\n",
       "      <td>0</td>\n",
       "      <td>0</td>\n",
       "      <td>0</td>\n",
       "      <td>0</td>\n",
       "      <td>0</td>\n",
       "      <td>0</td>\n",
       "      <td>0</td>\n",
       "      <td>1</td>\n",
       "      <td>0</td>\n",
       "      <td>1</td>\n",
       "    </tr>\n",
       "    <tr>\n",
       "      <th>8</th>\n",
       "      <td>Email 9</td>\n",
       "      <td>2</td>\n",
       "      <td>2</td>\n",
       "      <td>3</td>\n",
       "      <td>0</td>\n",
       "      <td>0</td>\n",
       "      <td>1</td>\n",
       "      <td>18</td>\n",
       "      <td>0</td>\n",
       "      <td>0</td>\n",
       "      <td>...</td>\n",
       "      <td>0</td>\n",
       "      <td>0</td>\n",
       "      <td>0</td>\n",
       "      <td>0</td>\n",
       "      <td>0</td>\n",
       "      <td>0</td>\n",
       "      <td>0</td>\n",
       "      <td>0</td>\n",
       "      <td>0</td>\n",
       "      <td>0</td>\n",
       "    </tr>\n",
       "    <tr>\n",
       "      <th>9</th>\n",
       "      <td>Email 10</td>\n",
       "      <td>4</td>\n",
       "      <td>4</td>\n",
       "      <td>35</td>\n",
       "      <td>0</td>\n",
       "      <td>1</td>\n",
       "      <td>0</td>\n",
       "      <td>49</td>\n",
       "      <td>1</td>\n",
       "      <td>16</td>\n",
       "      <td>...</td>\n",
       "      <td>0</td>\n",
       "      <td>0</td>\n",
       "      <td>0</td>\n",
       "      <td>0</td>\n",
       "      <td>0</td>\n",
       "      <td>0</td>\n",
       "      <td>0</td>\n",
       "      <td>0</td>\n",
       "      <td>0</td>\n",
       "      <td>0</td>\n",
       "    </tr>\n",
       "  </tbody>\n",
       "</table>\n",
       "<p>10 rows × 3002 columns</p>\n",
       "</div>"
      ],
      "text/plain": [
       "  Email No.  the  to  ect  and  for  of    a  you  hou  ...  connevey  jay  \\\n",
       "0   Email 1    0   0    1    0    0   0    2    0    0  ...         0    0   \n",
       "1   Email 2    8  13   24    6    6   2  102    1   27  ...         0    0   \n",
       "2   Email 3    0   0    1    0    0   0    8    0    0  ...         0    0   \n",
       "3   Email 4    0   5   22    0    5   1   51    2   10  ...         0    0   \n",
       "4   Email 5    7   6   17    1    5   2   57    0    9  ...         0    0   \n",
       "5   Email 6    4   5    1    4    2   3   45    1    0  ...         0    0   \n",
       "6   Email 7    5   3    1    3    2   1   37    0    0  ...         0    0   \n",
       "7   Email 8    0   2    2    3    1   2   21    6    0  ...         0    0   \n",
       "8   Email 9    2   2    3    0    0   1   18    0    0  ...         0    0   \n",
       "9  Email 10    4   4   35    0    1   0   49    1   16  ...         0    0   \n",
       "\n",
       "   valued  lay  infrastructure  military  allowing  ff  dry  Prediction  \n",
       "0       0    0               0         0         0   0    0           0  \n",
       "1       0    0               0         0         0   1    0           0  \n",
       "2       0    0               0         0         0   0    0           0  \n",
       "3       0    0               0         0         0   0    0           0  \n",
       "4       0    0               0         0         0   1    0           0  \n",
       "5       0    0               0         0         0   0    0           1  \n",
       "6       0    0               0         0         0   0    0           0  \n",
       "7       0    0               0         0         0   1    0           1  \n",
       "8       0    0               0         0         0   0    0           0  \n",
       "9       0    0               0         0         0   0    0           0  \n",
       "\n",
       "[10 rows x 3002 columns]"
      ]
     },
     "execution_count": 4,
     "metadata": {},
     "output_type": "execute_result"
    }
   ],
   "source": [
    "df.head(10)"
   ]
  },
  {
   "cell_type": "markdown",
   "id": "99d7788a",
   "metadata": {
    "papermill": {
     "duration": 0.017163,
     "end_time": "2023-04-29T07:26:38.219835",
     "exception": false,
     "start_time": "2023-04-29T07:26:38.202672",
     "status": "completed"
    },
    "tags": []
   },
   "source": [
    "# Data Cleaning & Visualization"
   ]
  },
  {
   "cell_type": "code",
   "execution_count": 5,
   "id": "71e3a20e",
   "metadata": {
    "execution": {
     "iopub.execute_input": "2023-04-29T07:26:38.257337Z",
     "iopub.status.busy": "2023-04-29T07:26:38.256582Z",
     "iopub.status.idle": "2023-04-29T07:26:38.530119Z",
     "shell.execute_reply": "2023-04-29T07:26:38.528229Z"
    },
    "papermill": {
     "duration": 0.296405,
     "end_time": "2023-04-29T07:26:38.533913",
     "exception": false,
     "start_time": "2023-04-29T07:26:38.237508",
     "status": "completed"
    },
    "tags": []
   },
   "outputs": [
    {
     "name": "stdout",
     "output_type": "stream",
     "text": [
      "<class 'pandas.core.frame.DataFrame'>\n",
      "RangeIndex: 5172 entries, 0 to 5171\n",
      "Columns: 3002 entries, Email No. to Prediction\n",
      "dtypes: int64(3001), object(1)\n",
      "memory usage: 118.5+ MB\n"
     ]
    }
   ],
   "source": [
    "df.info()"
   ]
  },
  {
   "cell_type": "code",
   "execution_count": 6,
   "id": "53b235c7",
   "metadata": {
    "execution": {
     "iopub.execute_input": "2023-04-29T07:26:38.571878Z",
     "iopub.status.busy": "2023-04-29T07:26:38.571441Z",
     "iopub.status.idle": "2023-04-29T07:26:38.609612Z",
     "shell.execute_reply": "2023-04-29T07:26:38.608348Z"
    },
    "papermill": {
     "duration": 0.060598,
     "end_time": "2023-04-29T07:26:38.612339",
     "exception": false,
     "start_time": "2023-04-29T07:26:38.551741",
     "status": "completed"
    },
    "tags": []
   },
   "outputs": [
    {
     "data": {
      "text/plain": [
       "Email No.     0\n",
       "the           0\n",
       "to            0\n",
       "ect           0\n",
       "and           0\n",
       "             ..\n",
       "military      0\n",
       "allowing      0\n",
       "ff            0\n",
       "dry           0\n",
       "Prediction    0\n",
       "Length: 3002, dtype: int64"
      ]
     },
     "execution_count": 6,
     "metadata": {},
     "output_type": "execute_result"
    }
   ],
   "source": [
    "df.isnull().sum()"
   ]
  },
  {
   "cell_type": "code",
   "execution_count": 7,
   "id": "3ebf8caf",
   "metadata": {
    "execution": {
     "iopub.execute_input": "2023-04-29T07:26:38.649623Z",
     "iopub.status.busy": "2023-04-29T07:26:38.649178Z",
     "iopub.status.idle": "2023-04-29T07:26:45.100966Z",
     "shell.execute_reply": "2023-04-29T07:26:45.099577Z"
    },
    "papermill": {
     "duration": 6.474417,
     "end_time": "2023-04-29T07:26:45.104342",
     "exception": false,
     "start_time": "2023-04-29T07:26:38.629925",
     "status": "completed"
    },
    "tags": []
   },
   "outputs": [
    {
     "data": {
      "text/html": [
       "<div>\n",
       "<style scoped>\n",
       "    .dataframe tbody tr th:only-of-type {\n",
       "        vertical-align: middle;\n",
       "    }\n",
       "\n",
       "    .dataframe tbody tr th {\n",
       "        vertical-align: top;\n",
       "    }\n",
       "\n",
       "    .dataframe thead th {\n",
       "        text-align: right;\n",
       "    }\n",
       "</style>\n",
       "<table border=\"1\" class=\"dataframe\">\n",
       "  <thead>\n",
       "    <tr style=\"text-align: right;\">\n",
       "      <th></th>\n",
       "      <th>count</th>\n",
       "      <th>mean</th>\n",
       "      <th>std</th>\n",
       "      <th>min</th>\n",
       "      <th>25%</th>\n",
       "      <th>50%</th>\n",
       "      <th>75%</th>\n",
       "      <th>max</th>\n",
       "    </tr>\n",
       "  </thead>\n",
       "  <tbody>\n",
       "    <tr>\n",
       "      <th>the</th>\n",
       "      <td>5172.0</td>\n",
       "      <td>6.640565</td>\n",
       "      <td>11.745009</td>\n",
       "      <td>0.0</td>\n",
       "      <td>0.0</td>\n",
       "      <td>3.0</td>\n",
       "      <td>8.0</td>\n",
       "      <td>210.0</td>\n",
       "    </tr>\n",
       "    <tr>\n",
       "      <th>to</th>\n",
       "      <td>5172.0</td>\n",
       "      <td>6.188128</td>\n",
       "      <td>9.534576</td>\n",
       "      <td>0.0</td>\n",
       "      <td>1.0</td>\n",
       "      <td>3.0</td>\n",
       "      <td>7.0</td>\n",
       "      <td>132.0</td>\n",
       "    </tr>\n",
       "    <tr>\n",
       "      <th>ect</th>\n",
       "      <td>5172.0</td>\n",
       "      <td>5.143852</td>\n",
       "      <td>14.101142</td>\n",
       "      <td>1.0</td>\n",
       "      <td>1.0</td>\n",
       "      <td>1.0</td>\n",
       "      <td>4.0</td>\n",
       "      <td>344.0</td>\n",
       "    </tr>\n",
       "    <tr>\n",
       "      <th>and</th>\n",
       "      <td>5172.0</td>\n",
       "      <td>3.075599</td>\n",
       "      <td>6.045970</td>\n",
       "      <td>0.0</td>\n",
       "      <td>0.0</td>\n",
       "      <td>1.0</td>\n",
       "      <td>3.0</td>\n",
       "      <td>89.0</td>\n",
       "    </tr>\n",
       "    <tr>\n",
       "      <th>for</th>\n",
       "      <td>5172.0</td>\n",
       "      <td>3.124710</td>\n",
       "      <td>4.680522</td>\n",
       "      <td>0.0</td>\n",
       "      <td>1.0</td>\n",
       "      <td>2.0</td>\n",
       "      <td>4.0</td>\n",
       "      <td>47.0</td>\n",
       "    </tr>\n",
       "    <tr>\n",
       "      <th>...</th>\n",
       "      <td>...</td>\n",
       "      <td>...</td>\n",
       "      <td>...</td>\n",
       "      <td>...</td>\n",
       "      <td>...</td>\n",
       "      <td>...</td>\n",
       "      <td>...</td>\n",
       "      <td>...</td>\n",
       "    </tr>\n",
       "    <tr>\n",
       "      <th>military</th>\n",
       "      <td>5172.0</td>\n",
       "      <td>0.006574</td>\n",
       "      <td>0.138908</td>\n",
       "      <td>0.0</td>\n",
       "      <td>0.0</td>\n",
       "      <td>0.0</td>\n",
       "      <td>0.0</td>\n",
       "      <td>4.0</td>\n",
       "    </tr>\n",
       "    <tr>\n",
       "      <th>allowing</th>\n",
       "      <td>5172.0</td>\n",
       "      <td>0.004060</td>\n",
       "      <td>0.072145</td>\n",
       "      <td>0.0</td>\n",
       "      <td>0.0</td>\n",
       "      <td>0.0</td>\n",
       "      <td>0.0</td>\n",
       "      <td>3.0</td>\n",
       "    </tr>\n",
       "    <tr>\n",
       "      <th>ff</th>\n",
       "      <td>5172.0</td>\n",
       "      <td>0.914733</td>\n",
       "      <td>2.780203</td>\n",
       "      <td>0.0</td>\n",
       "      <td>0.0</td>\n",
       "      <td>0.0</td>\n",
       "      <td>1.0</td>\n",
       "      <td>114.0</td>\n",
       "    </tr>\n",
       "    <tr>\n",
       "      <th>dry</th>\n",
       "      <td>5172.0</td>\n",
       "      <td>0.006961</td>\n",
       "      <td>0.098086</td>\n",
       "      <td>0.0</td>\n",
       "      <td>0.0</td>\n",
       "      <td>0.0</td>\n",
       "      <td>0.0</td>\n",
       "      <td>4.0</td>\n",
       "    </tr>\n",
       "    <tr>\n",
       "      <th>Prediction</th>\n",
       "      <td>5172.0</td>\n",
       "      <td>0.290023</td>\n",
       "      <td>0.453817</td>\n",
       "      <td>0.0</td>\n",
       "      <td>0.0</td>\n",
       "      <td>0.0</td>\n",
       "      <td>1.0</td>\n",
       "      <td>1.0</td>\n",
       "    </tr>\n",
       "  </tbody>\n",
       "</table>\n",
       "<p>3001 rows × 8 columns</p>\n",
       "</div>"
      ],
      "text/plain": [
       "             count      mean        std  min  25%  50%  75%    max\n",
       "the         5172.0  6.640565  11.745009  0.0  0.0  3.0  8.0  210.0\n",
       "to          5172.0  6.188128   9.534576  0.0  1.0  3.0  7.0  132.0\n",
       "ect         5172.0  5.143852  14.101142  1.0  1.0  1.0  4.0  344.0\n",
       "and         5172.0  3.075599   6.045970  0.0  0.0  1.0  3.0   89.0\n",
       "for         5172.0  3.124710   4.680522  0.0  1.0  2.0  4.0   47.0\n",
       "...            ...       ...        ...  ...  ...  ...  ...    ...\n",
       "military    5172.0  0.006574   0.138908  0.0  0.0  0.0  0.0    4.0\n",
       "allowing    5172.0  0.004060   0.072145  0.0  0.0  0.0  0.0    3.0\n",
       "ff          5172.0  0.914733   2.780203  0.0  0.0  0.0  1.0  114.0\n",
       "dry         5172.0  0.006961   0.098086  0.0  0.0  0.0  0.0    4.0\n",
       "Prediction  5172.0  0.290023   0.453817  0.0  0.0  0.0  1.0    1.0\n",
       "\n",
       "[3001 rows x 8 columns]"
      ]
     },
     "execution_count": 7,
     "metadata": {},
     "output_type": "execute_result"
    }
   ],
   "source": [
    "df.describe().T"
   ]
  },
  {
   "cell_type": "code",
   "execution_count": 8,
   "id": "bf169e0d",
   "metadata": {
    "execution": {
     "iopub.execute_input": "2023-04-29T07:26:45.143359Z",
     "iopub.status.busy": "2023-04-29T07:26:45.142879Z",
     "iopub.status.idle": "2023-04-29T07:27:06.582056Z",
     "shell.execute_reply": "2023-04-29T07:27:06.580756Z"
    },
    "papermill": {
     "duration": 21.462461,
     "end_time": "2023-04-29T07:27:06.585439",
     "exception": false,
     "start_time": "2023-04-29T07:26:45.122978",
     "status": "completed"
    },
    "tags": []
   },
   "outputs": [
    {
     "data": {
      "text/plain": [
       "<AxesSubplot:>"
      ]
     },
     "execution_count": 8,
     "metadata": {},
     "output_type": "execute_result"
    },
    {
     "data": {
      "image/png": "[encoded data removed]",
      "text/plain": [
       "<Figure size 640x480 with 2 Axes>"
      ]
     },
     "metadata": {},
     "output_type": "display_data"
    }
   ],
   "source": [
    "sns.heatmap(df.isnull())"
   ]
  },
  {
   "cell_type": "code",
   "execution_count": 9,
   "id": "a1aaba39",
   "metadata": {
    "execution": {
     "iopub.execute_input": "2023-04-29T07:27:06.626891Z",
     "iopub.status.busy": "2023-04-29T07:27:06.626045Z",
     "iopub.status.idle": "2023-04-29T07:27:06.820146Z",
     "shell.execute_reply": "2023-04-29T07:27:06.818760Z"
    },
    "papermill": {
     "duration": 0.218077,
     "end_time": "2023-04-29T07:27:06.823022",
     "exception": false,
     "start_time": "2023-04-29T07:27:06.604945",
     "status": "completed"
    },
    "tags": []
   },
   "outputs": [
    {
     "data": {
      "image/png": "[encoded data removed]",
      "text/plain": [
       "<Figure size 640x480 with 1 Axes>"
      ]
     },
     "metadata": {},
     "output_type": "display_data"
    }
   ],
   "source": [
    "sns.countplot(data=df, x='Prediction', color=sns.color_palette()[0])\n",
    "plt.show()"
   ]
  },
  {
   "cell_type": "code",
   "execution_count": 10,
   "id": "778fd49f",
   "metadata": {
    "execution": {
     "iopub.execute_input": "2023-04-29T07:27:06.864358Z",
     "iopub.status.busy": "2023-04-29T07:27:06.863883Z",
     "iopub.status.idle": "2023-04-29T07:27:06.911693Z",
     "shell.execute_reply": "2023-04-29T07:27:06.910349Z"
    },
    "papermill": {
     "duration": 0.071899,
     "end_time": "2023-04-29T07:27:06.914623",
     "exception": false,
     "start_time": "2023-04-29T07:27:06.842724",
     "status": "completed"
    },
    "tags": []
   },
   "outputs": [],
   "source": [
    "df = df.iloc[:, 1:]"
   ]
  },
  {
   "cell_type": "code",
   "execution_count": 11,
   "id": "a45eb26b",
   "metadata": {
    "execution": {
     "iopub.execute_input": "2023-04-29T07:27:06.957391Z",
     "iopub.status.busy": "2023-04-29T07:27:06.956099Z",
     "iopub.status.idle": "2023-04-29T07:27:06.980891Z",
     "shell.execute_reply": "2023-04-29T07:27:06.979664Z"
    },
    "papermill": {
     "duration": 0.048703,
     "end_time": "2023-04-29T07:27:06.983681",
     "exception": false,
     "start_time": "2023-04-29T07:27:06.934978",
     "status": "completed"
    },
    "tags": []
   },
   "outputs": [
    {
     "data": {
      "text/html": [
       "<div>\n",
       "<style scoped>\n",
       "    .dataframe tbody tr th:only-of-type {\n",
       "        vertical-align: middle;\n",
       "    }\n",
       "\n",
       "    .dataframe tbody tr th {\n",
       "        vertical-align: top;\n",
       "    }\n",
       "\n",
       "    .dataframe thead th {\n",
       "        text-align: right;\n",
       "    }\n",
       "</style>\n",
       "<table border=\"1\" class=\"dataframe\">\n",
       "  <thead>\n",
       "    <tr style=\"text-align: right;\">\n",
       "      <th></th>\n",
       "      <th>the</th>\n",
       "      <th>to</th>\n",
       "      <th>ect</th>\n",
       "      <th>and</th>\n",
       "      <th>for</th>\n",
       "      <th>of</th>\n",
       "      <th>a</th>\n",
       "      <th>you</th>\n",
       "      <th>hou</th>\n",
       "      <th>in</th>\n",
       "      <th>...</th>\n",
       "      <th>connevey</th>\n",
       "      <th>jay</th>\n",
       "      <th>valued</th>\n",
       "      <th>lay</th>\n",
       "      <th>infrastructure</th>\n",
       "      <th>military</th>\n",
       "      <th>allowing</th>\n",
       "      <th>ff</th>\n",
       "      <th>dry</th>\n",
       "      <th>Prediction</th>\n",
       "    </tr>\n",
       "  </thead>\n",
       "  <tbody>\n",
       "    <tr>\n",
       "      <th>0</th>\n",
       "      <td>0</td>\n",
       "      <td>0</td>\n",
       "      <td>1</td>\n",
       "      <td>0</td>\n",
       "      <td>0</td>\n",
       "      <td>0</td>\n",
       "      <td>2</td>\n",
       "      <td>0</td>\n",
       "      <td>0</td>\n",
       "      <td>0</td>\n",
       "      <td>...</td>\n",
       "      <td>0</td>\n",
       "      <td>0</td>\n",
       "      <td>0</td>\n",
       "      <td>0</td>\n",
       "      <td>0</td>\n",
       "      <td>0</td>\n",
       "      <td>0</td>\n",
       "      <td>0</td>\n",
       "      <td>0</td>\n",
       "      <td>0</td>\n",
       "    </tr>\n",
       "    <tr>\n",
       "      <th>1</th>\n",
       "      <td>8</td>\n",
       "      <td>13</td>\n",
       "      <td>24</td>\n",
       "      <td>6</td>\n",
       "      <td>6</td>\n",
       "      <td>2</td>\n",
       "      <td>102</td>\n",
       "      <td>1</td>\n",
       "      <td>27</td>\n",
       "      <td>18</td>\n",
       "      <td>...</td>\n",
       "      <td>0</td>\n",
       "      <td>0</td>\n",
       "      <td>0</td>\n",
       "      <td>0</td>\n",
       "      <td>0</td>\n",
       "      <td>0</td>\n",
       "      <td>0</td>\n",
       "      <td>1</td>\n",
       "      <td>0</td>\n",
       "      <td>0</td>\n",
       "    </tr>\n",
       "    <tr>\n",
       "      <th>2</th>\n",
       "      <td>0</td>\n",
       "      <td>0</td>\n",
       "      <td>1</td>\n",
       "      <td>0</td>\n",
       "      <td>0</td>\n",
       "      <td>0</td>\n",
       "      <td>8</td>\n",
       "      <td>0</td>\n",
       "      <td>0</td>\n",
       "      <td>4</td>\n",
       "      <td>...</td>\n",
       "      <td>0</td>\n",
       "      <td>0</td>\n",
       "      <td>0</td>\n",
       "      <td>0</td>\n",
       "      <td>0</td>\n",
       "      <td>0</td>\n",
       "      <td>0</td>\n",
       "      <td>0</td>\n",
       "      <td>0</td>\n",
       "      <td>0</td>\n",
       "    </tr>\n",
       "    <tr>\n",
       "      <th>3</th>\n",
       "      <td>0</td>\n",
       "      <td>5</td>\n",
       "      <td>22</td>\n",
       "      <td>0</td>\n",
       "      <td>5</td>\n",
       "      <td>1</td>\n",
       "      <td>51</td>\n",
       "      <td>2</td>\n",
       "      <td>10</td>\n",
       "      <td>1</td>\n",
       "      <td>...</td>\n",
       "      <td>0</td>\n",
       "      <td>0</td>\n",
       "      <td>0</td>\n",
       "      <td>0</td>\n",
       "      <td>0</td>\n",
       "      <td>0</td>\n",
       "      <td>0</td>\n",
       "      <td>0</td>\n",
       "      <td>0</td>\n",
       "      <td>0</td>\n",
       "    </tr>\n",
       "    <tr>\n",
       "      <th>4</th>\n",
       "      <td>7</td>\n",
       "      <td>6</td>\n",
       "      <td>17</td>\n",
       "      <td>1</td>\n",
       "      <td>5</td>\n",
       "      <td>2</td>\n",
       "      <td>57</td>\n",
       "      <td>0</td>\n",
       "      <td>9</td>\n",
       "      <td>3</td>\n",
       "      <td>...</td>\n",
       "      <td>0</td>\n",
       "      <td>0</td>\n",
       "      <td>0</td>\n",
       "      <td>0</td>\n",
       "      <td>0</td>\n",
       "      <td>0</td>\n",
       "      <td>0</td>\n",
       "      <td>1</td>\n",
       "      <td>0</td>\n",
       "      <td>0</td>\n",
       "    </tr>\n",
       "    <tr>\n",
       "      <th>...</th>\n",
       "      <td>...</td>\n",
       "      <td>...</td>\n",
       "      <td>...</td>\n",
       "      <td>...</td>\n",
       "      <td>...</td>\n",
       "      <td>...</td>\n",
       "      <td>...</td>\n",
       "      <td>...</td>\n",
       "      <td>...</td>\n",
       "      <td>...</td>\n",
       "      <td>...</td>\n",
       "      <td>...</td>\n",
       "      <td>...</td>\n",
       "      <td>...</td>\n",
       "      <td>...</td>\n",
       "      <td>...</td>\n",
       "      <td>...</td>\n",
       "      <td>...</td>\n",
       "      <td>...</td>\n",
       "      <td>...</td>\n",
       "      <td>...</td>\n",
       "    </tr>\n",
       "    <tr>\n",
       "      <th>5167</th>\n",
       "      <td>2</td>\n",
       "      <td>2</td>\n",
       "      <td>2</td>\n",
       "      <td>3</td>\n",
       "      <td>0</td>\n",
       "      <td>0</td>\n",
       "      <td>32</td>\n",
       "      <td>0</td>\n",
       "      <td>0</td>\n",
       "      <td>5</td>\n",
       "      <td>...</td>\n",
       "      <td>0</td>\n",
       "      <td>0</td>\n",
       "      <td>0</td>\n",
       "      <td>0</td>\n",
       "      <td>0</td>\n",
       "      <td>0</td>\n",
       "      <td>0</td>\n",
       "      <td>0</td>\n",
       "      <td>0</td>\n",
       "      <td>0</td>\n",
       "    </tr>\n",
       "    <tr>\n",
       "      <th>5168</th>\n",
       "      <td>35</td>\n",
       "      <td>27</td>\n",
       "      <td>11</td>\n",
       "      <td>2</td>\n",
       "      <td>6</td>\n",
       "      <td>5</td>\n",
       "      <td>151</td>\n",
       "      <td>4</td>\n",
       "      <td>3</td>\n",
       "      <td>23</td>\n",
       "      <td>...</td>\n",
       "      <td>0</td>\n",
       "      <td>0</td>\n",
       "      <td>0</td>\n",
       "      <td>0</td>\n",
       "      <td>0</td>\n",
       "      <td>0</td>\n",
       "      <td>0</td>\n",
       "      <td>1</td>\n",
       "      <td>0</td>\n",
       "      <td>0</td>\n",
       "    </tr>\n",
       "    <tr>\n",
       "      <th>5169</th>\n",
       "      <td>0</td>\n",
       "      <td>0</td>\n",
       "      <td>1</td>\n",
       "      <td>1</td>\n",
       "      <td>0</td>\n",
       "      <td>0</td>\n",
       "      <td>11</td>\n",
       "      <td>0</td>\n",
       "      <td>0</td>\n",
       "      <td>1</td>\n",
       "      <td>...</td>\n",
       "      <td>0</td>\n",
       "      <td>0</td>\n",
       "      <td>0</td>\n",
       "      <td>0</td>\n",
       "      <td>0</td>\n",
       "      <td>0</td>\n",
       "      <td>0</td>\n",
       "      <td>0</td>\n",
       "      <td>0</td>\n",
       "      <td>1</td>\n",
       "    </tr>\n",
       "    <tr>\n",
       "      <th>5170</th>\n",
       "      <td>2</td>\n",
       "      <td>7</td>\n",
       "      <td>1</td>\n",
       "      <td>0</td>\n",
       "      <td>2</td>\n",
       "      <td>1</td>\n",
       "      <td>28</td>\n",
       "      <td>2</td>\n",
       "      <td>0</td>\n",
       "      <td>8</td>\n",
       "      <td>...</td>\n",
       "      <td>0</td>\n",
       "      <td>0</td>\n",
       "      <td>0</td>\n",
       "      <td>0</td>\n",
       "      <td>0</td>\n",
       "      <td>0</td>\n",
       "      <td>0</td>\n",
       "      <td>1</td>\n",
       "      <td>0</td>\n",
       "      <td>1</td>\n",
       "    </tr>\n",
       "    <tr>\n",
       "      <th>5171</th>\n",
       "      <td>22</td>\n",
       "      <td>24</td>\n",
       "      <td>5</td>\n",
       "      <td>1</td>\n",
       "      <td>6</td>\n",
       "      <td>5</td>\n",
       "      <td>148</td>\n",
       "      <td>8</td>\n",
       "      <td>2</td>\n",
       "      <td>23</td>\n",
       "      <td>...</td>\n",
       "      <td>0</td>\n",
       "      <td>0</td>\n",
       "      <td>0</td>\n",
       "      <td>0</td>\n",
       "      <td>0</td>\n",
       "      <td>0</td>\n",
       "      <td>0</td>\n",
       "      <td>0</td>\n",
       "      <td>0</td>\n",
       "      <td>0</td>\n",
       "    </tr>\n",
       "  </tbody>\n",
       "</table>\n",
       "<p>5172 rows × 3001 columns</p>\n",
       "</div>"
      ],
      "text/plain": [
       "      the  to  ect  and  for  of    a  you  hou  in  ...  connevey  jay  \\\n",
       "0       0   0    1    0    0   0    2    0    0   0  ...         0    0   \n",
       "1       8  13   24    6    6   2  102    1   27  18  ...         0    0   \n",
       "2       0   0    1    0    0   0    8    0    0   4  ...         0    0   \n",
       "3       0   5   22    0    5   1   51    2   10   1  ...         0    0   \n",
       "4       7   6   17    1    5   2   57    0    9   3  ...         0    0   \n",
       "...   ...  ..  ...  ...  ...  ..  ...  ...  ...  ..  ...       ...  ...   \n",
       "5167    2   2    2    3    0   0   32    0    0   5  ...         0    0   \n",
       "5168   35  27   11    2    6   5  151    4    3  23  ...         0    0   \n",
       "5169    0   0    1    1    0   0   11    0    0   1  ...         0    0   \n",
       "5170    2   7    1    0    2   1   28    2    0   8  ...         0    0   \n",
       "5171   22  24    5    1    6   5  148    8    2  23  ...         0    0   \n",
       "\n",
       "      valued  lay  infrastructure  military  allowing  ff  dry  Prediction  \n",
       "0          0    0               0         0         0   0    0           0  \n",
       "1          0    0               0         0         0   1    0           0  \n",
       "2          0    0               0         0         0   0    0           0  \n",
       "3          0    0               0         0         0   0    0           0  \n",
       "4          0    0               0         0         0   1    0           0  \n",
       "...      ...  ...             ...       ...       ...  ..  ...         ...  \n",
       "5167       0    0               0         0         0   0    0           0  \n",
       "5168       0    0               0         0         0   1    0           0  \n",
       "5169       0    0               0         0         0   0    0           1  \n",
       "5170       0    0               0         0         0   1    0           1  \n",
       "5171       0    0               0         0         0   0    0           0  \n",
       "\n",
       "[5172 rows x 3001 columns]"
      ]
     },
     "execution_count": 11,
     "metadata": {},
     "output_type": "execute_result"
    }
   ],
   "source": [
    "df"
   ]
  },
  {
   "cell_type": "code",
   "execution_count": 12,
   "id": "bfdb84b3",
   "metadata": {
    "execution": {
     "iopub.execute_input": "2023-04-29T07:27:07.024901Z",
     "iopub.status.busy": "2023-04-29T07:27:07.024482Z",
     "iopub.status.idle": "2023-04-29T07:27:07.048596Z",
     "shell.execute_reply": "2023-04-29T07:27:07.047522Z"
    },
    "papermill": {
     "duration": 0.047754,
     "end_time": "2023-04-29T07:27:07.051218",
     "exception": false,
     "start_time": "2023-04-29T07:27:07.003464",
     "status": "completed"
    },
    "tags": []
   },
   "outputs": [
    {
     "data": {
      "text/html": [
       "<div>\n",
       "<style scoped>\n",
       "    .dataframe tbody tr th:only-of-type {\n",
       "        vertical-align: middle;\n",
       "    }\n",
       "\n",
       "    .dataframe tbody tr th {\n",
       "        vertical-align: top;\n",
       "    }\n",
       "\n",
       "    .dataframe thead th {\n",
       "        text-align: right;\n",
       "    }\n",
       "</style>\n",
       "<table border=\"1\" class=\"dataframe\">\n",
       "  <thead>\n",
       "    <tr style=\"text-align: right;\">\n",
       "      <th></th>\n",
       "      <th>the</th>\n",
       "      <th>to</th>\n",
       "      <th>ect</th>\n",
       "      <th>and</th>\n",
       "      <th>for</th>\n",
       "      <th>of</th>\n",
       "      <th>a</th>\n",
       "      <th>you</th>\n",
       "      <th>hou</th>\n",
       "      <th>in</th>\n",
       "      <th>...</th>\n",
       "      <th>enhancements</th>\n",
       "      <th>connevey</th>\n",
       "      <th>jay</th>\n",
       "      <th>valued</th>\n",
       "      <th>lay</th>\n",
       "      <th>infrastructure</th>\n",
       "      <th>military</th>\n",
       "      <th>allowing</th>\n",
       "      <th>ff</th>\n",
       "      <th>dry</th>\n",
       "    </tr>\n",
       "  </thead>\n",
       "  <tbody>\n",
       "    <tr>\n",
       "      <th>0</th>\n",
       "      <td>0</td>\n",
       "      <td>0</td>\n",
       "      <td>1</td>\n",
       "      <td>0</td>\n",
       "      <td>0</td>\n",
       "      <td>0</td>\n",
       "      <td>2</td>\n",
       "      <td>0</td>\n",
       "      <td>0</td>\n",
       "      <td>0</td>\n",
       "      <td>...</td>\n",
       "      <td>0</td>\n",
       "      <td>0</td>\n",
       "      <td>0</td>\n",
       "      <td>0</td>\n",
       "      <td>0</td>\n",
       "      <td>0</td>\n",
       "      <td>0</td>\n",
       "      <td>0</td>\n",
       "      <td>0</td>\n",
       "      <td>0</td>\n",
       "    </tr>\n",
       "    <tr>\n",
       "      <th>1</th>\n",
       "      <td>8</td>\n",
       "      <td>13</td>\n",
       "      <td>24</td>\n",
       "      <td>6</td>\n",
       "      <td>6</td>\n",
       "      <td>2</td>\n",
       "      <td>102</td>\n",
       "      <td>1</td>\n",
       "      <td>27</td>\n",
       "      <td>18</td>\n",
       "      <td>...</td>\n",
       "      <td>0</td>\n",
       "      <td>0</td>\n",
       "      <td>0</td>\n",
       "      <td>0</td>\n",
       "      <td>0</td>\n",
       "      <td>0</td>\n",
       "      <td>0</td>\n",
       "      <td>0</td>\n",
       "      <td>1</td>\n",
       "      <td>0</td>\n",
       "    </tr>\n",
       "    <tr>\n",
       "      <th>2</th>\n",
       "      <td>0</td>\n",
       "      <td>0</td>\n",
       "      <td>1</td>\n",
       "      <td>0</td>\n",
       "      <td>0</td>\n",
       "      <td>0</td>\n",
       "      <td>8</td>\n",
       "      <td>0</td>\n",
       "      <td>0</td>\n",
       "      <td>4</td>\n",
       "      <td>...</td>\n",
       "      <td>0</td>\n",
       "      <td>0</td>\n",
       "      <td>0</td>\n",
       "      <td>0</td>\n",
       "      <td>0</td>\n",
       "      <td>0</td>\n",
       "      <td>0</td>\n",
       "      <td>0</td>\n",
       "      <td>0</td>\n",
       "      <td>0</td>\n",
       "    </tr>\n",
       "    <tr>\n",
       "      <th>3</th>\n",
       "      <td>0</td>\n",
       "      <td>5</td>\n",
       "      <td>22</td>\n",
       "      <td>0</td>\n",
       "      <td>5</td>\n",
       "      <td>1</td>\n",
       "      <td>51</td>\n",
       "      <td>2</td>\n",
       "      <td>10</td>\n",
       "      <td>1</td>\n",
       "      <td>...</td>\n",
       "      <td>0</td>\n",
       "      <td>0</td>\n",
       "      <td>0</td>\n",
       "      <td>0</td>\n",
       "      <td>0</td>\n",
       "      <td>0</td>\n",
       "      <td>0</td>\n",
       "      <td>0</td>\n",
       "      <td>0</td>\n",
       "      <td>0</td>\n",
       "    </tr>\n",
       "    <tr>\n",
       "      <th>4</th>\n",
       "      <td>7</td>\n",
       "      <td>6</td>\n",
       "      <td>17</td>\n",
       "      <td>1</td>\n",
       "      <td>5</td>\n",
       "      <td>2</td>\n",
       "      <td>57</td>\n",
       "      <td>0</td>\n",
       "      <td>9</td>\n",
       "      <td>3</td>\n",
       "      <td>...</td>\n",
       "      <td>0</td>\n",
       "      <td>0</td>\n",
       "      <td>0</td>\n",
       "      <td>0</td>\n",
       "      <td>0</td>\n",
       "      <td>0</td>\n",
       "      <td>0</td>\n",
       "      <td>0</td>\n",
       "      <td>1</td>\n",
       "      <td>0</td>\n",
       "    </tr>\n",
       "    <tr>\n",
       "      <th>...</th>\n",
       "      <td>...</td>\n",
       "      <td>...</td>\n",
       "      <td>...</td>\n",
       "      <td>...</td>\n",
       "      <td>...</td>\n",
       "      <td>...</td>\n",
       "      <td>...</td>\n",
       "      <td>...</td>\n",
       "      <td>...</td>\n",
       "      <td>...</td>\n",
       "      <td>...</td>\n",
       "      <td>...</td>\n",
       "      <td>...</td>\n",
       "      <td>...</td>\n",
       "      <td>...</td>\n",
       "      <td>...</td>\n",
       "      <td>...</td>\n",
       "      <td>...</td>\n",
       "      <td>...</td>\n",
       "      <td>...</td>\n",
       "      <td>...</td>\n",
       "    </tr>\n",
       "    <tr>\n",
       "      <th>5167</th>\n",
       "      <td>2</td>\n",
       "      <td>2</td>\n",
       "      <td>2</td>\n",
       "      <td>3</td>\n",
       "      <td>0</td>\n",
       "      <td>0</td>\n",
       "      <td>32</td>\n",
       "      <td>0</td>\n",
       "      <td>0</td>\n",
       "      <td>5</td>\n",
       "      <td>...</td>\n",
       "      <td>0</td>\n",
       "      <td>0</td>\n",
       "      <td>0</td>\n",
       "      <td>0</td>\n",
       "      <td>0</td>\n",
       "      <td>0</td>\n",
       "      <td>0</td>\n",
       "      <td>0</td>\n",
       "      <td>0</td>\n",
       "      <td>0</td>\n",
       "    </tr>\n",
       "    <tr>\n",
       "      <th>5168</th>\n",
       "      <td>35</td>\n",
       "      <td>27</td>\n",
       "      <td>11</td>\n",
       "      <td>2</td>\n",
       "      <td>6</td>\n",
       "      <td>5</td>\n",
       "      <td>151</td>\n",
       "      <td>4</td>\n",
       "      <td>3</td>\n",
       "      <td>23</td>\n",
       "      <td>...</td>\n",
       "      <td>0</td>\n",
       "      <td>0</td>\n",
       "      <td>0</td>\n",
       "      <td>0</td>\n",
       "      <td>0</td>\n",
       "      <td>0</td>\n",
       "      <td>0</td>\n",
       "      <td>0</td>\n",
       "      <td>1</td>\n",
       "      <td>0</td>\n",
       "    </tr>\n",
       "    <tr>\n",
       "      <th>5169</th>\n",
       "      <td>0</td>\n",
       "      <td>0</td>\n",
       "      <td>1</td>\n",
       "      <td>1</td>\n",
       "      <td>0</td>\n",
       "      <td>0</td>\n",
       "      <td>11</td>\n",
       "      <td>0</td>\n",
       "      <td>0</td>\n",
       "      <td>1</td>\n",
       "      <td>...</td>\n",
       "      <td>0</td>\n",
       "      <td>0</td>\n",
       "      <td>0</td>\n",
       "      <td>0</td>\n",
       "      <td>0</td>\n",
       "      <td>0</td>\n",
       "      <td>0</td>\n",
       "      <td>0</td>\n",
       "      <td>0</td>\n",
       "      <td>0</td>\n",
       "    </tr>\n",
       "    <tr>\n",
       "      <th>5170</th>\n",
       "      <td>2</td>\n",
       "      <td>7</td>\n",
       "      <td>1</td>\n",
       "      <td>0</td>\n",
       "      <td>2</td>\n",
       "      <td>1</td>\n",
       "      <td>28</td>\n",
       "      <td>2</td>\n",
       "      <td>0</td>\n",
       "      <td>8</td>\n",
       "      <td>...</td>\n",
       "      <td>0</td>\n",
       "      <td>0</td>\n",
       "      <td>0</td>\n",
       "      <td>0</td>\n",
       "      <td>0</td>\n",
       "      <td>0</td>\n",
       "      <td>0</td>\n",
       "      <td>0</td>\n",
       "      <td>1</td>\n",
       "      <td>0</td>\n",
       "    </tr>\n",
       "    <tr>\n",
       "      <th>5171</th>\n",
       "      <td>22</td>\n",
       "      <td>24</td>\n",
       "      <td>5</td>\n",
       "      <td>1</td>\n",
       "      <td>6</td>\n",
       "      <td>5</td>\n",
       "      <td>148</td>\n",
       "      <td>8</td>\n",
       "      <td>2</td>\n",
       "      <td>23</td>\n",
       "      <td>...</td>\n",
       "      <td>0</td>\n",
       "      <td>0</td>\n",
       "      <td>0</td>\n",
       "      <td>0</td>\n",
       "      <td>0</td>\n",
       "      <td>0</td>\n",
       "      <td>0</td>\n",
       "      <td>0</td>\n",
       "      <td>0</td>\n",
       "      <td>0</td>\n",
       "    </tr>\n",
       "  </tbody>\n",
       "</table>\n",
       "<p>5172 rows × 3000 columns</p>\n",
       "</div>"
      ],
      "text/plain": [
       "      the  to  ect  and  for  of    a  you  hou  in  ...  enhancements  \\\n",
       "0       0   0    1    0    0   0    2    0    0   0  ...             0   \n",
       "1       8  13   24    6    6   2  102    1   27  18  ...             0   \n",
       "2       0   0    1    0    0   0    8    0    0   4  ...             0   \n",
       "3       0   5   22    0    5   1   51    2   10   1  ...             0   \n",
       "4       7   6   17    1    5   2   57    0    9   3  ...             0   \n",
       "...   ...  ..  ...  ...  ...  ..  ...  ...  ...  ..  ...           ...   \n",
       "5167    2   2    2    3    0   0   32    0    0   5  ...             0   \n",
       "5168   35  27   11    2    6   5  151    4    3  23  ...             0   \n",
       "5169    0   0    1    1    0   0   11    0    0   1  ...             0   \n",
       "5170    2   7    1    0    2   1   28    2    0   8  ...             0   \n",
       "5171   22  24    5    1    6   5  148    8    2  23  ...             0   \n",
       "\n",
       "      connevey  jay  valued  lay  infrastructure  military  allowing  ff  dry  \n",
       "0            0    0       0    0               0         0         0   0    0  \n",
       "1            0    0       0    0               0         0         0   1    0  \n",
       "2            0    0       0    0               0         0         0   0    0  \n",
       "3            0    0       0    0               0         0         0   0    0  \n",
       "4            0    0       0    0               0         0         0   1    0  \n",
       "...        ...  ...     ...  ...             ...       ...       ...  ..  ...  \n",
       "5167         0    0       0    0               0         0         0   0    0  \n",
       "5168         0    0       0    0               0         0         0   1    0  \n",
       "5169         0    0       0    0               0         0         0   0    0  \n",
       "5170         0    0       0    0               0         0         0   1    0  \n",
       "5171         0    0       0    0               0         0         0   0    0  \n",
       "\n",
       "[5172 rows x 3000 columns]"
      ]
     },
     "execution_count": 12,
     "metadata": {},
     "output_type": "execute_result"
    }
   ],
   "source": [
    "x = df.iloc[:, :3000]\n",
    "x"
   ]
  },
  {
   "cell_type": "code",
   "execution_count": 13,
   "id": "1e60f6c9",
   "metadata": {
    "execution": {
     "iopub.execute_input": "2023-04-29T07:27:07.094024Z",
     "iopub.status.busy": "2023-04-29T07:27:07.093621Z",
     "iopub.status.idle": "2023-04-29T07:27:07.101458Z",
     "shell.execute_reply": "2023-04-29T07:27:07.100193Z"
    },
    "papermill": {
     "duration": 0.031972,
     "end_time": "2023-04-29T07:27:07.103840",
     "exception": false,
     "start_time": "2023-04-29T07:27:07.071868",
     "status": "completed"
    },
    "tags": []
   },
   "outputs": [
    {
     "data": {
      "text/plain": [
       "array([[ 0,  0,  1, ...,  0,  0,  0],\n",
       "       [ 8, 13, 24, ...,  0,  1,  0],\n",
       "       [ 0,  0,  1, ...,  0,  0,  0],\n",
       "       ...,\n",
       "       [ 0,  0,  1, ...,  0,  0,  0],\n",
       "       [ 2,  7,  1, ...,  0,  1,  0],\n",
       "       [22, 24,  5, ...,  0,  0,  0]])"
      ]
     },
     "execution_count": 13,
     "metadata": {},
     "output_type": "execute_result"
    }
   ],
   "source": [
    "x = x.values\n",
    "x"
   ]
  },
  {
   "cell_type": "code",
   "execution_count": 14,
   "id": "04a7fdb2",
   "metadata": {
    "execution": {
     "iopub.execute_input": "2023-04-29T07:27:07.147269Z",
     "iopub.status.busy": "2023-04-29T07:27:07.146147Z",
     "iopub.status.idle": "2023-04-29T07:27:07.155913Z",
     "shell.execute_reply": "2023-04-29T07:27:07.154629Z"
    },
    "papermill": {
     "duration": 0.034461,
     "end_time": "2023-04-29T07:27:07.158539",
     "exception": false,
     "start_time": "2023-04-29T07:27:07.124078",
     "status": "completed"
    },
    "tags": []
   },
   "outputs": [
    {
     "data": {
      "text/plain": [
       "0       0\n",
       "1       0\n",
       "2       0\n",
       "3       0\n",
       "4       0\n",
       "       ..\n",
       "5167    0\n",
       "5168    0\n",
       "5169    1\n",
       "5170    1\n",
       "5171    0\n",
       "Name: Prediction, Length: 5172, dtype: int64"
      ]
     },
     "execution_count": 14,
     "metadata": {},
     "output_type": "execute_result"
    }
   ],
   "source": [
    "y = df.iloc[:, -1]\n",
    "y"
   ]
  },
  {
   "cell_type": "code",
   "execution_count": 15,
   "id": "56399b82",
   "metadata": {
    "execution": {
     "iopub.execute_input": "2023-04-29T07:27:07.204270Z",
     "iopub.status.busy": "2023-04-29T07:27:07.202973Z",
     "iopub.status.idle": "2023-04-29T07:27:07.210575Z",
     "shell.execute_reply": "2023-04-29T07:27:07.209689Z"
    },
    "papermill": {
     "duration": 0.034233,
     "end_time": "2023-04-29T07:27:07.212966",
     "exception": false,
     "start_time": "2023-04-29T07:27:07.178733",
     "status": "completed"
    },
    "tags": []
   },
   "outputs": [
    {
     "data": {
      "text/plain": [
       "array([0, 0, 0, ..., 1, 1, 0])"
      ]
     },
     "execution_count": 15,
     "metadata": {},
     "output_type": "execute_result"
    }
   ],
   "source": [
    "y = y.values\n",
    "y"
   ]
  },
  {
   "cell_type": "markdown",
   "id": "63e42188",
   "metadata": {
    "papermill": {
     "duration": 0.020235,
     "end_time": "2023-04-29T07:27:07.254152",
     "exception": false,
     "start_time": "2023-04-29T07:27:07.233917",
     "status": "completed"
    },
    "tags": []
   },
   "source": [
    "# Train & Test Splitting the Data"
   ]
  },
  {
   "cell_type": "code",
   "execution_count": 16,
   "id": "9f28bac4",
   "metadata": {
    "execution": {
     "iopub.execute_input": "2023-04-29T07:27:07.302796Z",
     "iopub.status.busy": "2023-04-29T07:27:07.301979Z",
     "iopub.status.idle": "2023-04-29T07:27:07.499315Z",
     "shell.execute_reply": "2023-04-29T07:27:07.497960Z"
    },
    "papermill": {
     "duration": 0.227055,
     "end_time": "2023-04-29T07:27:07.502351",
     "exception": false,
     "start_time": "2023-04-29T07:27:07.275296",
     "status": "completed"
    },
    "tags": []
   },
   "outputs": [],
   "source": [
    "x_train, x_test, y_train, y_test = train_test_split(x, y, test_size=0.2, random_state=1)"
   ]
  },
  {
   "cell_type": "markdown",
   "id": "b295328c",
   "metadata": {
    "papermill": {
     "duration": 0.021527,
     "end_time": "2023-04-29T07:27:07.544669",
     "exception": false,
     "start_time": "2023-04-29T07:27:07.523142",
     "status": "completed"
    },
    "tags": []
   },
   "source": [
    "# Function to Measure Performance"
   ]
  },
  {
   "cell_type": "code",
   "execution_count": 17,
   "id": "7e1a71b3",
   "metadata": {
    "execution": {
     "iopub.execute_input": "2023-04-29T07:27:07.588796Z",
     "iopub.status.busy": "2023-04-29T07:27:07.588386Z",
     "iopub.status.idle": "2023-04-29T07:27:07.595579Z",
     "shell.execute_reply": "2023-04-29T07:27:07.594210Z"
    },
    "papermill": {
     "duration": 0.032085,
     "end_time": "2023-04-29T07:27:07.598424",
     "exception": false,
     "start_time": "2023-04-29T07:27:07.566339",
     "status": "completed"
    },
    "tags": []
   },
   "outputs": [],
   "source": [
    "def perform(y_pred):\n",
    "    print(\"Precision : \", precision_score(y_test, y_pred))\n",
    "    print(\"Recall : \", recall_score(y_test, y_pred))\n",
    "    print(\"Accuracy : \", accuracy_score(y_test, y_pred))\n",
    "    print(\"F1 Score : \", f1_score(y_test, y_pred))\n",
    "    print('')\n",
    "    print(confusion_matrix(y_test, y_pred), '\\n')\n",
    "    cm = ConfusionMatrixDisplay(confusion_matrix=confusion_matrix(y_test, y_pred))\n",
    "    cm.plot()"
   ]
  },
  {
   "cell_type": "markdown",
   "id": "51d9c17e",
   "metadata": {
    "papermill": {
     "duration": 0.020347,
     "end_time": "2023-04-29T07:27:07.639098",
     "exception": false,
     "start_time": "2023-04-29T07:27:07.618751",
     "status": "completed"
    },
    "tags": []
   },
   "source": [
    "# Logistic Regression"
   ]
  },
  {
   "cell_type": "code",
   "execution_count": 18,
   "id": "fff75e11",
   "metadata": {
    "execution": {
     "iopub.execute_input": "2023-04-29T07:27:07.681871Z",
     "iopub.status.busy": "2023-04-29T07:27:07.681229Z",
     "iopub.status.idle": "2023-04-29T07:27:09.052628Z",
     "shell.execute_reply": "2023-04-29T07:27:09.050740Z"
    },
    "papermill": {
     "duration": 1.399466,
     "end_time": "2023-04-29T07:27:09.058912",
     "exception": false,
     "start_time": "2023-04-29T07:27:07.659446",
     "status": "completed"
    },
    "tags": []
   },
   "outputs": [
    {
     "data": {
      "text/plain": [
       "LogisticRegression()"
      ]
     },
     "execution_count": 18,
     "metadata": {},
     "output_type": "execute_result"
    }
   ],
   "source": [
    "model_lr = LogisticRegression()\n",
    "model_lr.fit(x_train, y_train)"
   ]
  },
  {
   "cell_type": "code",
   "execution_count": 19,
   "id": "80e91baf",
   "metadata": {
    "execution": {
     "iopub.execute_input": "2023-04-29T07:27:09.163543Z",
     "iopub.status.busy": "2023-04-29T07:27:09.163063Z",
     "iopub.status.idle": "2023-04-29T07:27:09.182407Z",
     "shell.execute_reply": "2023-04-29T07:27:09.180538Z"
    },
    "papermill": {
     "duration": 0.07221,
     "end_time": "2023-04-29T07:27:09.188344",
     "exception": false,
     "start_time": "2023-04-29T07:27:09.116134",
     "status": "completed"
    },
    "tags": []
   },
   "outputs": [],
   "source": [
    "y_pred_lr = model_lr.predict(x_test)"
   ]
  },
  {
   "cell_type": "code",
   "execution_count": 20,
   "id": "da8a63aa",
   "metadata": {
    "execution": {
     "iopub.execute_input": "2023-04-29T07:27:09.304419Z",
     "iopub.status.busy": "2023-04-29T07:27:09.303965Z",
     "iopub.status.idle": "2023-04-29T07:27:09.599726Z",
     "shell.execute_reply": "2023-04-29T07:27:09.598683Z"
    },
    "papermill": {
     "duration": 0.352904,
     "end_time": "2023-04-29T07:27:09.602092",
     "exception": false,
     "start_time": "2023-04-29T07:27:09.249188",
     "status": "completed"
    },
    "tags": []
   },
   "outputs": [
    {
     "name": "stdout",
     "output_type": "stream",
     "text": [
      "Precision :  0.934375\n",
      "Recall :  0.9462025316455697\n",
      "Accuracy :  0.9632850241545894\n",
      "F1 Score :  0.9402515723270441\n",
      "\n",
      "[[698  21]\n",
      " [ 17 299]] \n",
      "\n"
     ]
    },
    {
     "data": {
      "image/png": "[encoded data removed]",
      "text/plain": [
       "<Figure size 640x480 with 2 Axes>"
      ]
     },
     "metadata": {},
     "output_type": "display_data"
    }
   ],
   "source": [
    "perform(y_pred_lr)"
   ]
  },
  {
   "cell_type": "code",
   "execution_count": 21,
   "id": "5ab7a941",
   "metadata": {
    "execution": {
     "iopub.execute_input": "2023-04-29T07:27:09.648500Z",
     "iopub.status.busy": "2023-04-29T07:27:09.647754Z",
     "iopub.status.idle": "2023-04-29T07:27:09.659319Z",
     "shell.execute_reply": "2023-04-29T07:27:09.657827Z"
    },
    "papermill": {
     "duration": 0.037611,
     "end_time": "2023-04-29T07:27:09.661901",
     "exception": false,
     "start_time": "2023-04-29T07:27:09.624290",
     "status": "completed"
    },
    "tags": []
   },
   "outputs": [
    {
     "name": "stdout",
     "output_type": "stream",
     "text": [
      "              precision    recall  f1-score   support\n",
      "\n",
      "           0       0.98      0.97      0.97       719\n",
      "           1       0.93      0.95      0.94       316\n",
      "\n",
      "    accuracy                           0.96      1035\n",
      "   macro avg       0.96      0.96      0.96      1035\n",
      "weighted avg       0.96      0.96      0.96      1035\n",
      "\n"
     ]
    }
   ],
   "source": [
    "print(classification_report(y_test, y_pred_lr))"
   ]
  },
  {
   "cell_type": "markdown",
   "id": "5d76e6f4",
   "metadata": {
    "papermill": {
     "duration": 0.021435,
     "end_time": "2023-04-29T07:27:09.706911",
     "exception": false,
     "start_time": "2023-04-29T07:27:09.685476",
     "status": "completed"
    },
    "tags": []
   },
   "source": [
    "# Support Vector Clasifier"
   ]
  },
  {
   "cell_type": "code",
   "execution_count": 22,
   "id": "14a793e8",
   "metadata": {
    "execution": {
     "iopub.execute_input": "2023-04-29T07:27:09.752686Z",
     "iopub.status.busy": "2023-04-29T07:27:09.752229Z",
     "iopub.status.idle": "2023-04-29T07:27:31.900339Z",
     "shell.execute_reply": "2023-04-29T07:27:31.898994Z"
    },
    "papermill": {
     "duration": 22.174355,
     "end_time": "2023-04-29T07:27:31.902988",
     "exception": false,
     "start_time": "2023-04-29T07:27:09.728633",
     "status": "completed"
    },
    "tags": []
   },
   "outputs": [
    {
     "data": {
      "text/plain": [
       "SVC()"
      ]
     },
     "execution_count": 22,
     "metadata": {},
     "output_type": "execute_result"
    }
   ],
   "source": [
    "model_svc = SVC()\n",
    "model_svc.fit(x_train, y_train)"
   ]
  },
  {
   "cell_type": "code",
   "execution_count": 23,
   "id": "405a2dc3",
   "metadata": {
    "execution": {
     "iopub.execute_input": "2023-04-29T07:27:31.947332Z",
     "iopub.status.busy": "2023-04-29T07:27:31.946889Z",
     "iopub.status.idle": "2023-04-29T07:27:39.704108Z",
     "shell.execute_reply": "2023-04-29T07:27:39.702934Z"
    },
    "papermill": {
     "duration": 7.782921,
     "end_time": "2023-04-29T07:27:39.707115",
     "exception": false,
     "start_time": "2023-04-29T07:27:31.924194",
     "status": "completed"
    },
    "tags": []
   },
   "outputs": [],
   "source": [
    "y_pred_svc = model_svc.predict(x_test)"
   ]
  },
  {
   "cell_type": "code",
   "execution_count": 24,
   "id": "d55d2e47",
   "metadata": {
    "execution": {
     "iopub.execute_input": "2023-04-29T07:27:39.751630Z",
     "iopub.status.busy": "2023-04-29T07:27:39.751178Z",
     "iopub.status.idle": "2023-04-29T07:27:40.032267Z",
     "shell.execute_reply": "2023-04-29T07:27:40.031011Z"
    },
    "papermill": {
     "duration": 0.306454,
     "end_time": "2023-04-29T07:27:40.034910",
     "exception": false,
     "start_time": "2023-04-29T07:27:39.728456",
     "status": "completed"
    },
    "tags": []
   },
   "outputs": [
    {
     "name": "stdout",
     "output_type": "stream",
     "text": [
      "Precision :  0.8698630136986302\n",
      "Recall :  0.40189873417721517\n",
      "Accuracy :  0.7990338164251207\n",
      "F1 Score :  0.5497835497835497\n",
      "\n",
      "[[700  19]\n",
      " [189 127]] \n",
      "\n"
     ]
    },
    {
     "data": {
      "image/png": "[encoded data removed]",
      "text/plain": [
       "<Figure size 640x480 with 2 Axes>"
      ]
     },
     "metadata": {},
     "output_type": "display_data"
    }
   ],
   "source": [
    "perform(y_pred_svc)"
   ]
  },
  {
   "cell_type": "code",
   "execution_count": 25,
   "id": "8ffd5711",
   "metadata": {
    "execution": {
     "iopub.execute_input": "2023-04-29T07:27:40.081046Z",
     "iopub.status.busy": "2023-04-29T07:27:40.080570Z",
     "iopub.status.idle": "2023-04-29T07:27:40.093649Z",
     "shell.execute_reply": "2023-04-29T07:27:40.092369Z"
    },
    "papermill": {
     "duration": 0.039091,
     "end_time": "2023-04-29T07:27:40.096103",
     "exception": false,
     "start_time": "2023-04-29T07:27:40.057012",
     "status": "completed"
    },
    "tags": []
   },
   "outputs": [
    {
     "name": "stdout",
     "output_type": "stream",
     "text": [
      "              precision    recall  f1-score   support\n",
      "\n",
      "           0       0.79      0.97      0.87       719\n",
      "           1       0.87      0.40      0.55       316\n",
      "\n",
      "    accuracy                           0.80      1035\n",
      "   macro avg       0.83      0.69      0.71      1035\n",
      "weighted avg       0.81      0.80      0.77      1035\n",
      "\n"
     ]
    }
   ],
   "source": [
    "print(classification_report(y_test, y_pred_svc))"
   ]
  },
  {
   "cell_type": "markdown",
   "id": "493abd4c",
   "metadata": {
    "papermill": {
     "duration": 0.021768,
     "end_time": "2023-04-29T07:27:40.139984",
     "exception": false,
     "start_time": "2023-04-29T07:27:40.118216",
     "status": "completed"
    },
    "tags": []
   },
   "source": [
    "# Gaussian Naive Bayes"
   ]
  },
  {
   "cell_type": "code",
   "execution_count": 26,
   "id": "b3061aab",
   "metadata": {
    "execution": {
     "iopub.execute_input": "2023-04-29T07:27:40.186037Z",
     "iopub.status.busy": "2023-04-29T07:27:40.185310Z",
     "iopub.status.idle": "2023-04-29T07:27:40.401877Z",
     "shell.execute_reply": "2023-04-29T07:27:40.400363Z"
    },
    "papermill": {
     "duration": 0.242783,
     "end_time": "2023-04-29T07:27:40.404700",
     "exception": false,
     "start_time": "2023-04-29T07:27:40.161917",
     "status": "completed"
    },
    "tags": []
   },
   "outputs": [
    {
     "data": {
      "text/plain": [
       "GaussianNB()"
      ]
     },
     "execution_count": 26,
     "metadata": {},
     "output_type": "execute_result"
    }
   ],
   "source": [
    "model_nb = GaussianNB()\n",
    "model_nb.fit(x_train, y_train)"
   ]
  },
  {
   "cell_type": "code",
   "execution_count": 27,
   "id": "2d37bee5",
   "metadata": {
    "execution": {
     "iopub.execute_input": "2023-04-29T07:27:40.451471Z",
     "iopub.status.busy": "2023-04-29T07:27:40.451028Z",
     "iopub.status.idle": "2023-04-29T07:27:40.496208Z",
     "shell.execute_reply": "2023-04-29T07:27:40.494627Z"
    },
    "papermill": {
     "duration": 0.072066,
     "end_time": "2023-04-29T07:27:40.499409",
     "exception": false,
     "start_time": "2023-04-29T07:27:40.427343",
     "status": "completed"
    },
    "tags": []
   },
   "outputs": [],
   "source": [
    "y_pred_nb = model_nb.predict(x_test)"
   ]
  },
  {
   "cell_type": "code",
   "execution_count": 28,
   "id": "336ab4eb",
   "metadata": {
    "execution": {
     "iopub.execute_input": "2023-04-29T07:27:40.546081Z",
     "iopub.status.busy": "2023-04-29T07:27:40.545639Z",
     "iopub.status.idle": "2023-04-29T07:27:40.822901Z",
     "shell.execute_reply": "2023-04-29T07:27:40.821697Z"
    },
    "papermill": {
     "duration": 0.303747,
     "end_time": "2023-04-29T07:27:40.825613",
     "exception": false,
     "start_time": "2023-04-29T07:27:40.521866",
     "status": "completed"
    },
    "tags": []
   },
   "outputs": [
    {
     "name": "stdout",
     "output_type": "stream",
     "text": [
      "Precision :  0.9096385542168675\n",
      "Recall :  0.9556962025316456\n",
      "Accuracy :  0.957487922705314\n",
      "F1 Score :  0.9320987654320988\n",
      "\n",
      "[[689  30]\n",
      " [ 14 302]] \n",
      "\n"
     ]
    },
    {
     "data": {
      "image/png": "[encoded data removed]",
      "text/plain": [
       "<Figure size 640x480 with 2 Axes>"
      ]
     },
     "metadata": {},
     "output_type": "display_data"
    }
   ],
   "source": [
    "perform(y_pred_nb)"
   ]
  },
  {
   "cell_type": "code",
   "execution_count": 29,
   "id": "b40aa6d7",
   "metadata": {
    "execution": {
     "iopub.execute_input": "2023-04-29T07:27:40.874541Z",
     "iopub.status.busy": "2023-04-29T07:27:40.873373Z",
     "iopub.status.idle": "2023-04-29T07:27:40.885681Z",
     "shell.execute_reply": "2023-04-29T07:27:40.884351Z"
    },
    "papermill": {
     "duration": 0.039142,
     "end_time": "2023-04-29T07:27:40.888181",
     "exception": false,
     "start_time": "2023-04-29T07:27:40.849039",
     "status": "completed"
    },
    "tags": []
   },
   "outputs": [
    {
     "name": "stdout",
     "output_type": "stream",
     "text": [
      "              precision    recall  f1-score   support\n",
      "\n",
      "           0       0.98      0.96      0.97       719\n",
      "           1       0.91      0.96      0.93       316\n",
      "\n",
      "    accuracy                           0.96      1035\n",
      "   macro avg       0.94      0.96      0.95      1035\n",
      "weighted avg       0.96      0.96      0.96      1035\n",
      "\n"
     ]
    }
   ],
   "source": [
    "print(classification_report(y_test, y_pred_nb))"
   ]
  },
  {
   "cell_type": "markdown",
   "id": "e167572c",
   "metadata": {
    "papermill": {
     "duration": 0.02187,
     "end_time": "2023-04-29T07:27:40.932354",
     "exception": false,
     "start_time": "2023-04-29T07:27:40.910484",
     "status": "completed"
    },
    "tags": []
   },
   "source": [
    "# Multinomial Naive Bayes"
   ]
  },
  {
   "cell_type": "code",
   "execution_count": 30,
   "id": "b0c9fcc9",
   "metadata": {
    "execution": {
     "iopub.execute_input": "2023-04-29T07:27:40.978964Z",
     "iopub.status.busy": "2023-04-29T07:27:40.978142Z",
     "iopub.status.idle": "2023-04-29T07:27:41.060750Z",
     "shell.execute_reply": "2023-04-29T07:27:41.059522Z"
    },
    "papermill": {
     "duration": 0.108928,
     "end_time": "2023-04-29T07:27:41.063391",
     "exception": false,
     "start_time": "2023-04-29T07:27:40.954463",
     "status": "completed"
    },
    "tags": []
   },
   "outputs": [
    {
     "data": {
      "text/plain": [
       "MultinomialNB()"
      ]
     },
     "execution_count": 30,
     "metadata": {},
     "output_type": "execute_result"
    }
   ],
   "source": [
    "model_mnb = MultinomialNB()\n",
    "model_mnb.fit(x_train, y_train)"
   ]
  },
  {
   "cell_type": "code",
   "execution_count": 31,
   "id": "acef8cfb",
   "metadata": {
    "execution": {
     "iopub.execute_input": "2023-04-29T07:27:41.110592Z",
     "iopub.status.busy": "2023-04-29T07:27:41.109833Z",
     "iopub.status.idle": "2023-04-29T07:27:41.126829Z",
     "shell.execute_reply": "2023-04-29T07:27:41.125070Z"
    },
    "papermill": {
     "duration": 0.04651,
     "end_time": "2023-04-29T07:27:41.132447",
     "exception": false,
     "start_time": "2023-04-29T07:27:41.085937",
     "status": "completed"
    },
    "tags": []
   },
   "outputs": [],
   "source": [
    "y_pred_mnb = model_mnb.predict(x_test)"
   ]
  },
  {
   "cell_type": "code",
   "execution_count": 32,
   "id": "f8f58405",
   "metadata": {
    "execution": {
     "iopub.execute_input": "2023-04-29T07:27:41.250468Z",
     "iopub.status.busy": "2023-04-29T07:27:41.250057Z",
     "iopub.status.idle": "2023-04-29T07:27:41.526898Z",
     "shell.execute_reply": "2023-04-29T07:27:41.525323Z"
    },
    "papermill": {
     "duration": 0.330536,
     "end_time": "2023-04-29T07:27:41.529670",
     "exception": false,
     "start_time": "2023-04-29T07:27:41.199134",
     "status": "completed"
    },
    "tags": []
   },
   "outputs": [
    {
     "name": "stdout",
     "output_type": "stream",
     "text": [
      "Precision :  0.869942196531792\n",
      "Recall :  0.9525316455696202\n",
      "Accuracy :  0.9420289855072463\n",
      "F1 Score :  0.9093655589123867\n",
      "\n",
      "[[674  45]\n",
      " [ 15 301]] \n",
      "\n"
     ]
    },
    {
     "data": {
      "image/png": "[encoded data removed]",
      "text/plain": [
       "<Figure size 640x480 with 2 Axes>"
      ]
     },
     "metadata": {},
     "output_type": "display_data"
    }
   ],
   "source": [
    "perform(y_pred_mnb)"
   ]
  },
  {
   "cell_type": "code",
   "execution_count": 33,
   "id": "f6e350c1",
   "metadata": {
    "execution": {
     "iopub.execute_input": "2023-04-29T07:27:41.582786Z",
     "iopub.status.busy": "2023-04-29T07:27:41.581662Z",
     "iopub.status.idle": "2023-04-29T07:27:41.593885Z",
     "shell.execute_reply": "2023-04-29T07:27:41.592636Z"
    },
    "papermill": {
     "duration": 0.042618,
     "end_time": "2023-04-29T07:27:41.596242",
     "exception": false,
     "start_time": "2023-04-29T07:27:41.553624",
     "status": "completed"
    },
    "tags": []
   },
   "outputs": [
    {
     "name": "stdout",
     "output_type": "stream",
     "text": [
      "              precision    recall  f1-score   support\n",
      "\n",
      "           0       0.98      0.94      0.96       719\n",
      "           1       0.87      0.95      0.91       316\n",
      "\n",
      "    accuracy                           0.94      1035\n",
      "   macro avg       0.92      0.94      0.93      1035\n",
      "weighted avg       0.95      0.94      0.94      1035\n",
      "\n"
     ]
    }
   ],
   "source": [
    "print(classification_report(y_test, y_pred_mnb))"
   ]
  },
  {
   "cell_type": "markdown",
   "id": "e10435cf",
   "metadata": {
    "papermill": {
     "duration": 0.023688,
     "end_time": "2023-04-29T07:27:41.643047",
     "exception": false,
     "start_time": "2023-04-29T07:27:41.619359",
     "status": "completed"
    },
    "tags": []
   },
   "source": [
    "# XGBoost Classifier"
   ]
  },
  {
   "cell_type": "code",
   "execution_count": 34,
   "id": "ee1f19c6",
   "metadata": {
    "execution": {
     "iopub.execute_input": "2023-04-29T07:27:41.691240Z",
     "iopub.status.busy": "2023-04-29T07:27:41.690557Z",
     "iopub.status.idle": "2023-04-29T07:28:06.305746Z",
     "shell.execute_reply": "2023-04-29T07:28:06.304214Z"
    },
    "papermill": {
     "duration": 24.642609,
     "end_time": "2023-04-29T07:28:06.308586",
     "exception": false,
     "start_time": "2023-04-29T07:27:41.665977",
     "status": "completed"
    },
    "tags": []
   },
   "outputs": [],
   "source": [
    "xgb = XGBClassifier().fit(x_train, y_train)"
   ]
  },
  {
   "cell_type": "code",
   "execution_count": 35,
   "id": "6b8ed315",
   "metadata": {
    "execution": {
     "iopub.execute_input": "2023-04-29T07:28:06.358457Z",
     "iopub.status.busy": "2023-04-29T07:28:06.357615Z",
     "iopub.status.idle": "2023-04-29T07:28:06.389045Z",
     "shell.execute_reply": "2023-04-29T07:28:06.388025Z"
    },
    "papermill": {
     "duration": 0.059181,
     "end_time": "2023-04-29T07:28:06.391825",
     "exception": false,
     "start_time": "2023-04-29T07:28:06.332644",
     "status": "completed"
    },
    "tags": []
   },
   "outputs": [],
   "source": [
    "y_pred_xgb = xgb.predict(x_test)"
   ]
  },
  {
   "cell_type": "code",
   "execution_count": 36,
   "id": "b1118045",
   "metadata": {
    "execution": {
     "iopub.execute_input": "2023-04-29T07:28:06.442586Z",
     "iopub.status.busy": "2023-04-29T07:28:06.442171Z",
     "iopub.status.idle": "2023-04-29T07:28:06.721884Z",
     "shell.execute_reply": "2023-04-29T07:28:06.720812Z"
    },
    "papermill": {
     "duration": 0.307534,
     "end_time": "2023-04-29T07:28:06.724456",
     "exception": false,
     "start_time": "2023-04-29T07:28:06.416922",
     "status": "completed"
    },
    "tags": []
   },
   "outputs": [
    {
     "name": "stdout",
     "output_type": "stream",
     "text": [
      "Precision :  0.9529780564263323\n",
      "Recall :  0.9620253164556962\n",
      "Accuracy :  0.9739130434782609\n",
      "F1 Score :  0.95748031496063\n",
      "\n",
      "[[704  15]\n",
      " [ 12 304]] \n",
      "\n"
     ]
    },
    {
     "data": {
      "image/png": "[encoded data removed]",
      "text/plain": [
       "<Figure size 640x480 with 2 Axes>"
      ]
     },
     "metadata": {},
     "output_type": "display_data"
    }
   ],
   "source": [
    "perform(y_pred_xgb)"
   ]
  },
  {
   "cell_type": "code",
   "execution_count": 37,
   "id": "e042b218",
   "metadata": {
    "execution": {
     "iopub.execute_input": "2023-04-29T07:28:06.774180Z",
     "iopub.status.busy": "2023-04-29T07:28:06.773404Z",
     "iopub.status.idle": "2023-04-29T07:28:06.784075Z",
     "shell.execute_reply": "2023-04-29T07:28:06.783114Z"
    },
    "papermill": {
     "duration": 0.038581,
     "end_time": "2023-04-29T07:28:06.786637",
     "exception": false,
     "start_time": "2023-04-29T07:28:06.748056",
     "status": "completed"
    },
    "tags": []
   },
   "outputs": [
    {
     "name": "stdout",
     "output_type": "stream",
     "text": [
      "              precision    recall  f1-score   support\n",
      "\n",
      "           0       0.98      0.98      0.98       719\n",
      "           1       0.95      0.96      0.96       316\n",
      "\n",
      "    accuracy                           0.97      1035\n",
      "   macro avg       0.97      0.97      0.97      1035\n",
      "weighted avg       0.97      0.97      0.97      1035\n",
      "\n"
     ]
    }
   ],
   "source": [
    "print(classification_report(y_test, y_pred_xgb))"
   ]
  },
  {
   "cell_type": "markdown",
   "id": "e68440cc",
   "metadata": {
    "papermill": {
     "duration": 0.023225,
     "end_time": "2023-04-29T07:28:06.833730",
     "exception": false,
     "start_time": "2023-04-29T07:28:06.810505",
     "status": "completed"
    },
    "tags": []
   },
   "source": [
    "# ADABoost Classifier"
   ]
  },
  {
   "cell_type": "code",
   "execution_count": 38,
   "id": "88c42226",
   "metadata": {
    "execution": {
     "iopub.execute_input": "2023-04-29T07:28:06.883750Z",
     "iopub.status.busy": "2023-04-29T07:28:06.883283Z",
     "iopub.status.idle": "2023-04-29T07:28:18.815522Z",
     "shell.execute_reply": "2023-04-29T07:28:18.814177Z"
    },
    "papermill": {
     "duration": 11.960466,
     "end_time": "2023-04-29T07:28:18.817995",
     "exception": false,
     "start_time": "2023-04-29T07:28:06.857529",
     "status": "completed"
    },
    "tags": []
   },
   "outputs": [
    {
     "data": {
      "text/plain": [
       "AdaBoostClassifier()"
      ]
     },
     "execution_count": 38,
     "metadata": {},
     "output_type": "execute_result"
    }
   ],
   "source": [
    "model_ada = AdaBoostClassifier()\n",
    "model_ada.fit(x_train, y_train)"
   ]
  },
  {
   "cell_type": "code",
   "execution_count": 39,
   "id": "de11bae7",
   "metadata": {
    "execution": {
     "iopub.execute_input": "2023-04-29T07:28:18.867452Z",
     "iopub.status.busy": "2023-04-29T07:28:18.867022Z",
     "iopub.status.idle": "2023-04-29T07:28:19.212212Z",
     "shell.execute_reply": "2023-04-29T07:28:19.210926Z"
    },
    "papermill": {
     "duration": 0.37326,
     "end_time": "2023-04-29T07:28:19.215221",
     "exception": false,
     "start_time": "2023-04-29T07:28:18.841961",
     "status": "completed"
    },
    "tags": []
   },
   "outputs": [],
   "source": [
    "y_pred_ada = model_ada.predict(x_test)"
   ]
  },
  {
   "cell_type": "code",
   "execution_count": 40,
   "id": "34ad0fee",
   "metadata": {
    "execution": {
     "iopub.execute_input": "2023-04-29T07:28:19.267047Z",
     "iopub.status.busy": "2023-04-29T07:28:19.266658Z",
     "iopub.status.idle": "2023-04-29T07:28:19.549129Z",
     "shell.execute_reply": "2023-04-29T07:28:19.547744Z"
    },
    "papermill": {
     "duration": 0.312605,
     "end_time": "2023-04-29T07:28:19.551824",
     "exception": false,
     "start_time": "2023-04-29T07:28:19.239219",
     "status": "completed"
    },
    "tags": []
   },
   "outputs": [
    {
     "name": "stdout",
     "output_type": "stream",
     "text": [
      "Precision :  0.9339622641509434\n",
      "Recall :  0.939873417721519\n",
      "Accuracy :  0.961352657004831\n",
      "F1 Score :  0.9369085173501578\n",
      "\n",
      "[[698  21]\n",
      " [ 19 297]] \n",
      "\n"
     ]
    },
    {
     "data": {
      "image/png": "[encoded data removed]",
      "text/plain": [
       "<Figure size 640x480 with 2 Axes>"
      ]
     },
     "metadata": {},
     "output_type": "display_data"
    }
   ],
   "source": [
    "perform(y_pred_ada)"
   ]
  },
  {
   "cell_type": "code",
   "execution_count": 41,
   "id": "b7e38d2f",
   "metadata": {
    "execution": {
     "iopub.execute_input": "2023-04-29T07:28:19.603431Z",
     "iopub.status.busy": "2023-04-29T07:28:19.602342Z",
     "iopub.status.idle": "2023-04-29T07:28:19.615321Z",
     "shell.execute_reply": "2023-04-29T07:28:19.613706Z"
    },
    "papermill": {
     "duration": 0.04174,
     "end_time": "2023-04-29T07:28:19.618081",
     "exception": false,
     "start_time": "2023-04-29T07:28:19.576341",
     "status": "completed"
    },
    "tags": []
   },
   "outputs": [
    {
     "name": "stdout",
     "output_type": "stream",
     "text": [
      "              precision    recall  f1-score   support\n",
      "\n",
      "           0       0.97      0.97      0.97       719\n",
      "           1       0.93      0.94      0.94       316\n",
      "\n",
      "    accuracy                           0.96      1035\n",
      "   macro avg       0.95      0.96      0.95      1035\n",
      "weighted avg       0.96      0.96      0.96      1035\n",
      "\n"
     ]
    }
   ],
   "source": [
    "print(classification_report(y_test, y_pred_ada))"
   ]
  },
  {
   "cell_type": "markdown",
   "id": "3b8cd8a2",
   "metadata": {
    "papermill": {
     "duration": 0.023818,
     "end_time": "2023-04-29T07:28:19.666889",
     "exception": false,
     "start_time": "2023-04-29T07:28:19.643071",
     "status": "completed"
    },
    "tags": []
   },
   "source": [
    "# Extra Trees Classifier"
   ]
  },
  {
   "cell_type": "code",
   "execution_count": 42,
   "id": "80e8f938",
   "metadata": {
    "execution": {
     "iopub.execute_input": "2023-04-29T07:28:19.717941Z",
     "iopub.status.busy": "2023-04-29T07:28:19.716761Z",
     "iopub.status.idle": "2023-04-29T07:28:27.265813Z",
     "shell.execute_reply": "2023-04-29T07:28:27.264354Z"
    },
    "papermill": {
     "duration": 7.577671,
     "end_time": "2023-04-29T07:28:27.268758",
     "exception": false,
     "start_time": "2023-04-29T07:28:19.691087",
     "status": "completed"
    },
    "tags": []
   },
   "outputs": [
    {
     "data": {
      "text/plain": [
       "ExtraTreesClassifier()"
      ]
     },
     "execution_count": 42,
     "metadata": {},
     "output_type": "execute_result"
    }
   ],
   "source": [
    "model_etc = ExtraTreesClassifier()\n",
    "model_etc.fit(x_train, y_train)"
   ]
  },
  {
   "cell_type": "code",
   "execution_count": 43,
   "id": "037f6946",
   "metadata": {
    "execution": {
     "iopub.execute_input": "2023-04-29T07:28:27.324964Z",
     "iopub.status.busy": "2023-04-29T07:28:27.324550Z",
     "iopub.status.idle": "2023-04-29T07:28:27.393956Z",
     "shell.execute_reply": "2023-04-29T07:28:27.392676Z"
    },
    "papermill": {
     "duration": 0.101093,
     "end_time": "2023-04-29T07:28:27.396937",
     "exception": false,
     "start_time": "2023-04-29T07:28:27.295844",
     "status": "completed"
    },
    "tags": []
   },
   "outputs": [],
   "source": [
    "y_pred_etc = model_etc.predict(x_test)"
   ]
  },
  {
   "cell_type": "code",
   "execution_count": 44,
   "id": "3213a8f9",
   "metadata": {
    "execution": {
     "iopub.execute_input": "2023-04-29T07:28:27.448036Z",
     "iopub.status.busy": "2023-04-29T07:28:27.446953Z",
     "iopub.status.idle": "2023-04-29T07:28:27.741667Z",
     "shell.execute_reply": "2023-04-29T07:28:27.740116Z"
    },
    "papermill": {
     "duration": 0.323055,
     "end_time": "2023-04-29T07:28:27.744502",
     "exception": false,
     "start_time": "2023-04-29T07:28:27.421447",
     "status": "completed"
    },
    "tags": []
   },
   "outputs": [
    {
     "name": "stdout",
     "output_type": "stream",
     "text": [
      "Precision :  0.9683544303797469\n",
      "Recall :  0.9683544303797469\n",
      "Accuracy :  0.9806763285024155\n",
      "F1 Score :  0.9683544303797469\n",
      "\n",
      "[[709  10]\n",
      " [ 10 306]] \n",
      "\n"
     ]
    },
    {
     "data": {
      "image/png": "[encoded data removed]",
      "text/plain": [
       "<Figure size 640x480 with 2 Axes>"
      ]
     },
     "metadata": {},
     "output_type": "display_data"
    }
   ],
   "source": [
    "perform(y_pred_etc)"
   ]
  },
  {
   "cell_type": "code",
   "execution_count": 45,
   "id": "b59a1888",
   "metadata": {
    "execution": {
     "iopub.execute_input": "2023-04-29T07:28:27.797575Z",
     "iopub.status.busy": "2023-04-29T07:28:27.797086Z",
     "iopub.status.idle": "2023-04-29T07:28:27.808875Z",
     "shell.execute_reply": "2023-04-29T07:28:27.807350Z"
    },
    "papermill": {
     "duration": 0.041379,
     "end_time": "2023-04-29T07:28:27.811568",
     "exception": false,
     "start_time": "2023-04-29T07:28:27.770189",
     "status": "completed"
    },
    "tags": []
   },
   "outputs": [
    {
     "name": "stdout",
     "output_type": "stream",
     "text": [
      "              precision    recall  f1-score   support\n",
      "\n",
      "           0       0.99      0.99      0.99       719\n",
      "           1       0.97      0.97      0.97       316\n",
      "\n",
      "    accuracy                           0.98      1035\n",
      "   macro avg       0.98      0.98      0.98      1035\n",
      "weighted avg       0.98      0.98      0.98      1035\n",
      "\n"
     ]
    }
   ],
   "source": [
    "print(classification_report(y_test, y_pred_etc))"
   ]
  },
  {
   "cell_type": "markdown",
   "id": "80672ca6",
   "metadata": {
    "papermill": {
     "duration": 0.031935,
     "end_time": "2023-04-29T07:28:27.868586",
     "exception": false,
     "start_time": "2023-04-29T07:28:27.836651",
     "status": "completed"
    },
    "tags": []
   },
   "source": [
    "# Decision Tree"
   ]
  },
  {
   "cell_type": "code",
   "execution_count": 46,
   "id": "551f0128",
   "metadata": {
    "execution": {
     "iopub.execute_input": "2023-04-29T07:28:27.928975Z",
     "iopub.status.busy": "2023-04-29T07:28:27.927519Z",
     "iopub.status.idle": "2023-04-29T07:28:29.150190Z",
     "shell.execute_reply": "2023-04-29T07:28:29.148933Z"
    },
    "papermill": {
     "duration": 1.253372,
     "end_time": "2023-04-29T07:28:29.153221",
     "exception": false,
     "start_time": "2023-04-29T07:28:27.899849",
     "status": "completed"
    },
    "tags": []
   },
   "outputs": [
    {
     "data": {
      "text/plain": [
       "DecisionTreeClassifier()"
      ]
     },
     "execution_count": 46,
     "metadata": {},
     "output_type": "execute_result"
    }
   ],
   "source": [
    "model_dt = DecisionTreeClassifier()\n",
    "model_dt.fit(x_train, y_train)"
   ]
  },
  {
   "cell_type": "code",
   "execution_count": 47,
   "id": "7ed7d262",
   "metadata": {
    "execution": {
     "iopub.execute_input": "2023-04-29T07:28:29.205244Z",
     "iopub.status.busy": "2023-04-29T07:28:29.204854Z",
     "iopub.status.idle": "2023-04-29T07:28:29.217186Z",
     "shell.execute_reply": "2023-04-29T07:28:29.215988Z"
    },
    "papermill": {
     "duration": 0.041552,
     "end_time": "2023-04-29T07:28:29.219886",
     "exception": false,
     "start_time": "2023-04-29T07:28:29.178334",
     "status": "completed"
    },
    "tags": []
   },
   "outputs": [],
   "source": [
    "y_pred_dt = model_dt.predict(x_test)"
   ]
  },
  {
   "cell_type": "code",
   "execution_count": 48,
   "id": "93afba8b",
   "metadata": {
    "execution": {
     "iopub.execute_input": "2023-04-29T07:28:29.272457Z",
     "iopub.status.busy": "2023-04-29T07:28:29.272031Z",
     "iopub.status.idle": "2023-04-29T07:28:29.558054Z",
     "shell.execute_reply": "2023-04-29T07:28:29.556773Z"
    },
    "papermill": {
     "duration": 0.315606,
     "end_time": "2023-04-29T07:28:29.561090",
     "exception": false,
     "start_time": "2023-04-29T07:28:29.245484",
     "status": "completed"
    },
    "tags": []
   },
   "outputs": [
    {
     "name": "stdout",
     "output_type": "stream",
     "text": [
      "Precision :  0.9085173501577287\n",
      "Recall :  0.9113924050632911\n",
      "Accuracy :  0.9449275362318841\n",
      "F1 Score :  0.909952606635071\n",
      "\n",
      "[[690  29]\n",
      " [ 28 288]] \n",
      "\n"
     ]
    },
    {
     "data": {
      "image/png": "[encoded data removed]",
      "text/plain": [
       "<Figure size 640x480 with 2 Axes>"
      ]
     },
     "metadata": {},
     "output_type": "display_data"
    }
   ],
   "source": [
    "perform(y_pred_dt)"
   ]
  },
  {
   "cell_type": "code",
   "execution_count": 49,
   "id": "ec0e7cd1",
   "metadata": {
    "execution": {
     "iopub.execute_input": "2023-04-29T07:28:29.615228Z",
     "iopub.status.busy": "2023-04-29T07:28:29.614767Z",
     "iopub.status.idle": "2023-04-29T07:28:29.627562Z",
     "shell.execute_reply": "2023-04-29T07:28:29.625977Z"
    },
    "papermill": {
     "duration": 0.042638,
     "end_time": "2023-04-29T07:28:29.630039",
     "exception": false,
     "start_time": "2023-04-29T07:28:29.587401",
     "status": "completed"
    },
    "tags": []
   },
   "outputs": [
    {
     "name": "stdout",
     "output_type": "stream",
     "text": [
      "              precision    recall  f1-score   support\n",
      "\n",
      "           0       0.96      0.96      0.96       719\n",
      "           1       0.91      0.91      0.91       316\n",
      "\n",
      "    accuracy                           0.94      1035\n",
      "   macro avg       0.93      0.94      0.94      1035\n",
      "weighted avg       0.94      0.94      0.94      1035\n",
      "\n"
     ]
    }
   ],
   "source": [
    "print(classification_report(y_test, y_pred_dt))"
   ]
  },
  {
   "cell_type": "code",
   "execution_count": 50,
   "id": "8a884cb3",
   "metadata": {
    "execution": {
     "iopub.execute_input": "2023-04-29T07:28:29.685549Z",
     "iopub.status.busy": "2023-04-29T07:28:29.685104Z",
     "iopub.status.idle": "2023-04-29T07:28:29.691097Z",
     "shell.execute_reply": "2023-04-29T07:28:29.690110Z"
    },
    "papermill": {
     "duration": 0.036182,
     "end_time": "2023-04-29T07:28:29.693783",
     "exception": false,
     "start_time": "2023-04-29T07:28:29.657601",
     "status": "completed"
    },
    "tags": []
   },
   "outputs": [],
   "source": [
    "filename = 'Email_Spam_Detection_DT.h5'\n",
    "pickle.dump(model_dt, open(filename, 'wb'))"
   ]
  },
  {
   "cell_type": "code",
   "execution_count": 51,
   "id": "c93e96ca",
   "metadata": {
    "execution": {
     "iopub.execute_input": "2023-04-29T07:28:29.749995Z",
     "iopub.status.busy": "2023-04-29T07:28:29.749529Z",
     "iopub.status.idle": "2023-04-29T07:28:29.849562Z",
     "shell.execute_reply": "2023-04-29T07:28:29.848063Z"
    },
    "papermill": {
     "duration": 0.13193,
     "end_time": "2023-04-29T07:28:29.852237",
     "exception": false,
     "start_time": "2023-04-29T07:28:29.720307",
     "status": "completed"
    },
    "tags": []
   },
   "outputs": [
    {
     "name": "stdout",
     "output_type": "stream",
     "text": [
      "the            int64\n",
      "to             int64\n",
      "ect            int64\n",
      "and            int64\n",
      "for            int64\n",
      "               ...  \n",
      "military       int64\n",
      "allowing       int64\n",
      "ff             int64\n",
      "dry            int64\n",
      "Prediction    object\n",
      "Length: 3001, dtype: object\n"
     ]
    }
   ],
   "source": [
    "feature_names = df.columns[0:3000]\n",
    "viz = df.copy()\n",
    "viz[\"Prediction\"]=viz[\"Prediction\"].values.astype(str)\n",
    "print(viz.dtypes)\n",
    "target_names = viz['Prediction'].unique().tolist()"
   ]
  },
  {
   "cell_type": "code",
   "execution_count": 52,
   "id": "02cb7eef",
   "metadata": {
    "execution": {
     "iopub.execute_input": "2023-04-29T07:28:29.907431Z",
     "iopub.status.busy": "2023-04-29T07:28:29.906998Z",
     "iopub.status.idle": "2023-04-29T07:28:29.915885Z",
     "shell.execute_reply": "2023-04-29T07:28:29.914029Z"
    },
    "papermill": {
     "duration": 0.040536,
     "end_time": "2023-04-29T07:28:29.918995",
     "exception": false,
     "start_time": "2023-04-29T07:28:29.878459",
     "status": "completed"
    },
    "tags": []
   },
   "outputs": [
    {
     "data": {
      "text/plain": [
       "['0', '1']"
      ]
     },
     "execution_count": 52,
     "metadata": {},
     "output_type": "execute_result"
    }
   ],
   "source": [
    "target_names"
   ]
  },
  {
   "cell_type": "code",
   "execution_count": 53,
   "id": "a47b862a",
   "metadata": {
    "execution": {
     "iopub.execute_input": "2023-04-29T07:28:29.975834Z",
     "iopub.status.busy": "2023-04-29T07:28:29.974354Z",
     "iopub.status.idle": "2023-04-29T07:28:49.923516Z",
     "shell.execute_reply": "2023-04-29T07:28:49.921783Z"
    },
    "papermill": {
     "duration": 19.983441,
     "end_time": "2023-04-29T07:28:49.929139",
     "exception": false,
     "start_time": "2023-04-29T07:28:29.945698",
     "status": "completed"
    },
    "tags": []
   },
   "outputs": [
    {
     "data": {
      "image/png": "[encoded data removed]",
      "text/plain": [
       "<Figure size 2500x2000 with 1 Axes>"
      ]
     },
     "metadata": {},
     "output_type": "display_data"
    }
   ],
   "source": [
    "plt.figure(figsize=(25, 20))\n",
    "plot_tree(model_dt, feature_names = feature_names, class_names = target_names, filled = True, rounded = False)\n",
    "plt.savefig('tree_visualization.png')"
   ]
  },
  {
   "cell_type": "markdown",
   "id": "f1e5a783",
   "metadata": {
    "papermill": {
     "duration": 0.032226,
     "end_time": "2023-04-29T07:28:49.993683",
     "exception": false,
     "start_time": "2023-04-29T07:28:49.961457",
     "status": "completed"
    },
    "tags": []
   },
   "source": [
    "# Random Forest"
   ]
  },
  {
   "cell_type": "code",
   "execution_count": 54,
   "id": "144e49b6",
   "metadata": {
    "execution": {
     "iopub.execute_input": "2023-04-29T07:28:50.062960Z",
     "iopub.status.busy": "2023-04-29T07:28:50.061885Z",
     "iopub.status.idle": "2023-04-29T07:28:52.770757Z",
     "shell.execute_reply": "2023-04-29T07:28:52.769357Z"
    },
    "papermill": {
     "duration": 2.746933,
     "end_time": "2023-04-29T07:28:52.773489",
     "exception": false,
     "start_time": "2023-04-29T07:28:50.026556",
     "status": "completed"
    },
    "tags": []
   },
   "outputs": [
    {
     "data": {
      "text/plain": [
       "RandomForestClassifier()"
      ]
     },
     "execution_count": 54,
     "metadata": {},
     "output_type": "execute_result"
    }
   ],
   "source": [
    "model_rf = RandomForestClassifier()\n",
    "model_rf.fit(x_train, y_train)"
   ]
  },
  {
   "cell_type": "code",
   "execution_count": 55,
   "id": "18c1bfe6",
   "metadata": {
    "execution": {
     "iopub.execute_input": "2023-04-29T07:28:52.837689Z",
     "iopub.status.busy": "2023-04-29T07:28:52.837249Z",
     "iopub.status.idle": "2023-04-29T07:28:52.895469Z",
     "shell.execute_reply": "2023-04-29T07:28:52.893998Z"
    },
    "papermill": {
     "duration": 0.093607,
     "end_time": "2023-04-29T07:28:52.898207",
     "exception": false,
     "start_time": "2023-04-29T07:28:52.804600",
     "status": "completed"
    },
    "tags": []
   },
   "outputs": [],
   "source": [
    "y_pred_rf = model_rf.predict(x_test)"
   ]
  },
  {
   "cell_type": "code",
   "execution_count": 56,
   "id": "e24838d1",
   "metadata": {
    "execution": {
     "iopub.execute_input": "2023-04-29T07:28:52.963819Z",
     "iopub.status.busy": "2023-04-29T07:28:52.962988Z",
     "iopub.status.idle": "2023-04-29T07:28:53.247929Z",
     "shell.execute_reply": "2023-04-29T07:28:53.246495Z"
    },
    "papermill": {
     "duration": 0.321193,
     "end_time": "2023-04-29T07:28:53.250625",
     "exception": false,
     "start_time": "2023-04-29T07:28:52.929432",
     "status": "completed"
    },
    "tags": []
   },
   "outputs": [
    {
     "name": "stdout",
     "output_type": "stream",
     "text": [
      "Precision :  0.9552715654952076\n",
      "Recall :  0.9462025316455697\n",
      "Accuracy :  0.970048309178744\n",
      "F1 Score :  0.9507154213036566\n",
      "\n",
      "[[705  14]\n",
      " [ 17 299]] \n",
      "\n"
     ]
    },
    {
     "data": {
      "image/png": "[encoded data removed]",
      "text/plain": [
       "<Figure size 640x480 with 2 Axes>"
      ]
     },
     "metadata": {},
     "output_type": "display_data"
    }
   ],
   "source": [
    "perform(y_pred_rf)"
   ]
  },
  {
   "cell_type": "code",
   "execution_count": 57,
   "id": "9cca11ad",
   "metadata": {
    "execution": {
     "iopub.execute_input": "2023-04-29T07:28:53.318895Z",
     "iopub.status.busy": "2023-04-29T07:28:53.318495Z",
     "iopub.status.idle": "2023-04-29T07:28:53.334665Z",
     "shell.execute_reply": "2023-04-29T07:28:53.333317Z"
    },
    "papermill": {
     "duration": 0.058534,
     "end_time": "2023-04-29T07:28:53.340445",
     "exception": false,
     "start_time": "2023-04-29T07:28:53.281911",
     "status": "completed"
    },
    "tags": []
   },
   "outputs": [
    {
     "name": "stdout",
     "output_type": "stream",
     "text": [
      "              precision    recall  f1-score   support\n",
      "\n",
      "           0       0.98      0.98      0.98       719\n",
      "           1       0.96      0.95      0.95       316\n",
      "\n",
      "    accuracy                           0.97      1035\n",
      "   macro avg       0.97      0.96      0.96      1035\n",
      "weighted avg       0.97      0.97      0.97      1035\n",
      "\n"
     ]
    }
   ],
   "source": [
    "print(classification_report(y_test, y_pred_rf))"
   ]
  },
  {
   "cell_type": "markdown",
   "id": "6f763412",
   "metadata": {
    "papermill": {
     "duration": 0.035963,
     "end_time": "2023-04-29T07:28:53.416351",
     "exception": false,
     "start_time": "2023-04-29T07:28:53.380388",
     "status": "completed"
    },
    "tags": []
   },
   "source": [
    "# Multi-Layer Perceptron Classifier"
   ]
  },
  {
   "cell_type": "code",
   "execution_count": 58,
   "id": "8f602be7",
   "metadata": {
    "execution": {
     "iopub.execute_input": "2023-04-29T07:28:53.481624Z",
     "iopub.status.busy": "2023-04-29T07:28:53.481143Z",
     "iopub.status.idle": "2023-04-29T07:29:13.752137Z",
     "shell.execute_reply": "2023-04-29T07:29:13.750335Z"
    },
    "papermill": {
     "duration": 20.309493,
     "end_time": "2023-04-29T07:29:13.757420",
     "exception": false,
     "start_time": "2023-04-29T07:28:53.447927",
     "status": "completed"
    },
    "tags": []
   },
   "outputs": [
    {
     "data": {
      "text/plain": [
       "MLPClassifier()"
      ]
     },
     "execution_count": 58,
     "metadata": {},
     "output_type": "execute_result"
    }
   ],
   "source": [
    "model_mlp = MLPClassifier()\n",
    "model_mlp.fit(x_train, y_train)"
   ]
  },
  {
   "cell_type": "code",
   "execution_count": 59,
   "id": "8e6e452d",
   "metadata": {
    "execution": {
     "iopub.execute_input": "2023-04-29T07:29:13.880031Z",
     "iopub.status.busy": "2023-04-29T07:29:13.878698Z",
     "iopub.status.idle": "2023-04-29T07:29:13.907169Z",
     "shell.execute_reply": "2023-04-29T07:29:13.905393Z"
    },
    "papermill": {
     "duration": 0.074594,
     "end_time": "2023-04-29T07:29:13.911906",
     "exception": false,
     "start_time": "2023-04-29T07:29:13.837312",
     "status": "completed"
    },
    "tags": []
   },
   "outputs": [],
   "source": [
    "y_pred_mlp = model_mlp.predict(x_test)"
   ]
  },
  {
   "cell_type": "code",
   "execution_count": 60,
   "id": "7ea68fc8",
   "metadata": {
    "execution": {
     "iopub.execute_input": "2023-04-29T07:29:14.047215Z",
     "iopub.status.busy": "2023-04-29T07:29:14.046813Z",
     "iopub.status.idle": "2023-04-29T07:29:14.341730Z",
     "shell.execute_reply": "2023-04-29T07:29:14.340063Z"
    },
    "papermill": {
     "duration": 0.353504,
     "end_time": "2023-04-29T07:29:14.345495",
     "exception": false,
     "start_time": "2023-04-29T07:29:13.991991",
     "status": "completed"
    },
    "tags": []
   },
   "outputs": [
    {
     "name": "stdout",
     "output_type": "stream",
     "text": [
      "Precision :  0.9684542586750788\n",
      "Recall :  0.9715189873417721\n",
      "Accuracy :  0.9816425120772947\n",
      "F1 Score :  0.9699842022116902\n",
      "\n",
      "[[709  10]\n",
      " [  9 307]] \n",
      "\n"
     ]
    },
    {
     "data": {
      "image/png": "[encoded data removed]",
      "text/plain": [
       "<Figure size 640x480 with 2 Axes>"
      ]
     },
     "metadata": {},
     "output_type": "display_data"
    }
   ],
   "source": [
    "perform(y_pred_mlp)"
   ]
  },
  {
   "cell_type": "code",
   "execution_count": 61,
   "id": "ff2b219d",
   "metadata": {
    "execution": {
     "iopub.execute_input": "2023-04-29T07:29:14.413203Z",
     "iopub.status.busy": "2023-04-29T07:29:14.412733Z",
     "iopub.status.idle": "2023-04-29T07:29:14.427037Z",
     "shell.execute_reply": "2023-04-29T07:29:14.425350Z"
    },
    "papermill": {
     "duration": 0.051535,
     "end_time": "2023-04-29T07:29:14.429832",
     "exception": false,
     "start_time": "2023-04-29T07:29:14.378297",
     "status": "completed"
    },
    "tags": []
   },
   "outputs": [
    {
     "name": "stdout",
     "output_type": "stream",
     "text": [
      "              precision    recall  f1-score   support\n",
      "\n",
      "           0       0.99      0.99      0.99       719\n",
      "           1       0.97      0.97      0.97       316\n",
      "\n",
      "    accuracy                           0.98      1035\n",
      "   macro avg       0.98      0.98      0.98      1035\n",
      "weighted avg       0.98      0.98      0.98      1035\n",
      "\n"
     ]
    }
   ],
   "source": [
    "print(classification_report(y_test, y_pred_mlp))"
   ]
  }
 ],
 "metadata": {
  "kernelspec": {
   "display_name": "Python 3",
   "language": "python",
   "name": "python3"
  },
  "language_info": {
   "codemirror_mode": {
    "name": "ipython",
    "version": 3
   },
   "file_extension": ".py",
   "mimetype": "text/x-python",
   "name": "python",
   "nbconvert_exporter": "python",
   "pygments_lexer": "ipython3",
   "version": "3.7.12"
  },
  "papermill": {
   "default_parameters": {},
   "duration": 185.690481,
   "end_time": "2023-04-29T07:29:15.387193",
   "environment_variables": {},
   "exception": null,
   "input_path": "__notebook__.ipynb",
   "output_path": "__notebook__.ipynb",
   "parameters": {},
   "start_time": "2023-04-29T07:26:09.696712",
   "version": "2.4.0"
  }
 },
 "nbformat": 4,
 "nbformat_minor": 5
}
